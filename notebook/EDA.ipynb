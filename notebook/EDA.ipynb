{
 "cells": [
  {
   "cell_type": "code",
   "execution_count": 1,
   "metadata": {},
   "outputs": [],
   "source": [
    "from nsepy import get_history\n",
    "from datetime import date\n",
    "\n",
    "stock_data  =get_history(\"SBIN\",date(2017,1,1),date(2022,7,13))"
   ]
  },
  {
   "cell_type": "code",
   "execution_count": 14,
   "metadata": {},
   "outputs": [],
   "source": [
    "stock_data_copy = stock_data.copy()\n",
    "stock_data_copy.reset_index(inplace=True)\n",
    "# stock_data_copy.head()"
   ]
  },
  {
   "cell_type": "code",
   "execution_count": 12,
   "metadata": {},
   "outputs": [
    {
     "data": {
      "text/plain": [
       "Index(['Symbol', 'Series', 'Prev Close', 'Open', 'High', 'Low', 'Last',\n",
       "       'Close', 'VWAP', 'Volume', 'Turnover', 'Trades', 'Deliverable Volume',\n",
       "       '%Deliverble'],\n",
       "      dtype='object')"
      ]
     },
     "execution_count": 12,
     "metadata": {},
     "output_type": "execute_result"
    }
   ],
   "source": [
    "stock_data_copy.columns"
   ]
  },
  {
   "cell_type": "code",
   "execution_count": 1,
   "metadata": {},
   "outputs": [],
   "source": [
    "file_path= r\"C:\\Users\\arunk\\OneDrive\\Documents\\GitHub\\investment_prediction\\stock\\artifact\\data_ingestion\\2022-07-26-16-18-27\\raw_data\\SBIN\""
   ]
  },
  {
   "cell_type": "code",
   "execution_count": 5,
   "metadata": {},
   "outputs": [],
   "source": [
    "import pandas as pd\n",
    "os.chdir(r'c:\\Users\\arunk\\OneDrive\\Documents\\GitHub\\investment_prediction')\n",
    "stock_data = pd.read_csv(file_path)\n",
    "stock_data.dtypes\n",
    "stock_data.Date = pd.to_datetime(stock_data['Date'])\n",
    "stock_data['Date']= pd.to_numeric(stock_data['Date'])"
   ]
  },
  {
   "cell_type": "code",
   "execution_count": 6,
   "metadata": {},
   "outputs": [
    {
     "data": {
      "text/plain": [
       "Date                    int64\n",
       "Symbol                 object\n",
       "Series                 object\n",
       "Prev Close            float64\n",
       "Open                  float64\n",
       "High                  float64\n",
       "Low                   float64\n",
       "Last                  float64\n",
       "Close                 float64\n",
       "VWAP                  float64\n",
       "Volume                  int64\n",
       "Turnover              float64\n",
       "Trades                  int64\n",
       "Deliverable Volume      int64\n",
       "%Deliverble           float64\n",
       "dtype: object"
      ]
     },
     "execution_count": 6,
     "metadata": {},
     "output_type": "execute_result"
    }
   ],
   "source": [
    "stock_data.dtypes"
   ]
  },
  {
   "cell_type": "code",
   "execution_count": 8,
   "metadata": {},
   "outputs": [
    {
     "name": "stdout",
     "output_type": "stream",
     "text": [
      "Index(['Date', 'Symbol', 'Series', 'Prev Close', 'Open', 'High', 'Low', 'Last',\n",
      "       'Close', 'VWAP', 'Volume', 'Turnover', 'Trades', 'Deliverable Volume',\n",
      "       '%Deliverble'],\n",
      "      dtype='object')\n"
     ]
    },
    {
     "data": {
      "text/html": [
       "<div>\n",
       "<style scoped>\n",
       "    .dataframe tbody tr th:only-of-type {\n",
       "        vertical-align: middle;\n",
       "    }\n",
       "\n",
       "    .dataframe tbody tr th {\n",
       "        vertical-align: top;\n",
       "    }\n",
       "\n",
       "    .dataframe thead th {\n",
       "        text-align: right;\n",
       "    }\n",
       "</style>\n",
       "<table border=\"1\" class=\"dataframe\">\n",
       "  <thead>\n",
       "    <tr style=\"text-align: right;\">\n",
       "      <th></th>\n",
       "      <th>Date</th>\n",
       "      <th>Prev Close</th>\n",
       "      <th>Open</th>\n",
       "      <th>High</th>\n",
       "      <th>Low</th>\n",
       "      <th>Close</th>\n",
       "      <th>VWAP</th>\n",
       "      <th>Volume</th>\n",
       "    </tr>\n",
       "  </thead>\n",
       "  <tbody>\n",
       "    <tr>\n",
       "      <th>0</th>\n",
       "      <td>1483315200000000000</td>\n",
       "      <td>250.20</td>\n",
       "      <td>252.50</td>\n",
       "      <td>253.65</td>\n",
       "      <td>242.60</td>\n",
       "      <td>243.60</td>\n",
       "      <td>244.80</td>\n",
       "      <td>25988990</td>\n",
       "    </tr>\n",
       "    <tr>\n",
       "      <th>1</th>\n",
       "      <td>1483401600000000000</td>\n",
       "      <td>243.60</td>\n",
       "      <td>244.00</td>\n",
       "      <td>246.40</td>\n",
       "      <td>241.10</td>\n",
       "      <td>244.90</td>\n",
       "      <td>244.54</td>\n",
       "      <td>15963085</td>\n",
       "    </tr>\n",
       "    <tr>\n",
       "      <th>2</th>\n",
       "      <td>1483488000000000000</td>\n",
       "      <td>244.90</td>\n",
       "      <td>245.80</td>\n",
       "      <td>246.40</td>\n",
       "      <td>242.20</td>\n",
       "      <td>242.90</td>\n",
       "      <td>243.96</td>\n",
       "      <td>11225978</td>\n",
       "    </tr>\n",
       "    <tr>\n",
       "      <th>3</th>\n",
       "      <td>1483574400000000000</td>\n",
       "      <td>242.90</td>\n",
       "      <td>245.00</td>\n",
       "      <td>245.90</td>\n",
       "      <td>243.70</td>\n",
       "      <td>245.35</td>\n",
       "      <td>244.94</td>\n",
       "      <td>11970913</td>\n",
       "    </tr>\n",
       "    <tr>\n",
       "      <th>4</th>\n",
       "      <td>1483660800000000000</td>\n",
       "      <td>245.35</td>\n",
       "      <td>246.00</td>\n",
       "      <td>249.00</td>\n",
       "      <td>245.50</td>\n",
       "      <td>245.90</td>\n",
       "      <td>247.10</td>\n",
       "      <td>12354302</td>\n",
       "    </tr>\n",
       "    <tr>\n",
       "      <th>...</th>\n",
       "      <td>...</td>\n",
       "      <td>...</td>\n",
       "      <td>...</td>\n",
       "      <td>...</td>\n",
       "      <td>...</td>\n",
       "      <td>...</td>\n",
       "      <td>...</td>\n",
       "      <td>...</td>\n",
       "    </tr>\n",
       "    <tr>\n",
       "      <th>1365</th>\n",
       "      <td>1657065600000000000</td>\n",
       "      <td>472.15</td>\n",
       "      <td>475.15</td>\n",
       "      <td>481.00</td>\n",
       "      <td>473.90</td>\n",
       "      <td>479.95</td>\n",
       "      <td>478.18</td>\n",
       "      <td>12059857</td>\n",
       "    </tr>\n",
       "    <tr>\n",
       "      <th>1366</th>\n",
       "      <td>1657152000000000000</td>\n",
       "      <td>479.95</td>\n",
       "      <td>484.00</td>\n",
       "      <td>488.25</td>\n",
       "      <td>481.60</td>\n",
       "      <td>486.75</td>\n",
       "      <td>485.27</td>\n",
       "      <td>11497832</td>\n",
       "    </tr>\n",
       "    <tr>\n",
       "      <th>1367</th>\n",
       "      <td>1657238400000000000</td>\n",
       "      <td>486.75</td>\n",
       "      <td>489.00</td>\n",
       "      <td>489.90</td>\n",
       "      <td>485.15</td>\n",
       "      <td>488.55</td>\n",
       "      <td>487.44</td>\n",
       "      <td>9057231</td>\n",
       "    </tr>\n",
       "    <tr>\n",
       "      <th>1368</th>\n",
       "      <td>1657497600000000000</td>\n",
       "      <td>488.55</td>\n",
       "      <td>485.00</td>\n",
       "      <td>491.30</td>\n",
       "      <td>485.00</td>\n",
       "      <td>488.20</td>\n",
       "      <td>488.75</td>\n",
       "      <td>7704792</td>\n",
       "    </tr>\n",
       "    <tr>\n",
       "      <th>1369</th>\n",
       "      <td>1657584000000000000</td>\n",
       "      <td>488.20</td>\n",
       "      <td>485.00</td>\n",
       "      <td>491.35</td>\n",
       "      <td>483.10</td>\n",
       "      <td>484.95</td>\n",
       "      <td>488.66</td>\n",
       "      <td>7364457</td>\n",
       "    </tr>\n",
       "  </tbody>\n",
       "</table>\n",
       "<p>1370 rows × 8 columns</p>\n",
       "</div>"
      ],
      "text/plain": [
       "                     Date  Prev Close    Open    High     Low   Close    VWAP  \\\n",
       "0     1483315200000000000      250.20  252.50  253.65  242.60  243.60  244.80   \n",
       "1     1483401600000000000      243.60  244.00  246.40  241.10  244.90  244.54   \n",
       "2     1483488000000000000      244.90  245.80  246.40  242.20  242.90  243.96   \n",
       "3     1483574400000000000      242.90  245.00  245.90  243.70  245.35  244.94   \n",
       "4     1483660800000000000      245.35  246.00  249.00  245.50  245.90  247.10   \n",
       "...                   ...         ...     ...     ...     ...     ...     ...   \n",
       "1365  1657065600000000000      472.15  475.15  481.00  473.90  479.95  478.18   \n",
       "1366  1657152000000000000      479.95  484.00  488.25  481.60  486.75  485.27   \n",
       "1367  1657238400000000000      486.75  489.00  489.90  485.15  488.55  487.44   \n",
       "1368  1657497600000000000      488.55  485.00  491.30  485.00  488.20  488.75   \n",
       "1369  1657584000000000000      488.20  485.00  491.35  483.10  484.95  488.66   \n",
       "\n",
       "        Volume  \n",
       "0     25988990  \n",
       "1     15963085  \n",
       "2     11225978  \n",
       "3     11970913  \n",
       "4     12354302  \n",
       "...        ...  \n",
       "1365  12059857  \n",
       "1366  11497832  \n",
       "1367   9057231  \n",
       "1368   7704792  \n",
       "1369   7364457  \n",
       "\n",
       "[1370 rows x 8 columns]"
      ]
     },
     "execution_count": 8,
     "metadata": {},
     "output_type": "execute_result"
    }
   ],
   "source": [
    "\n",
    "import pandas as pd\n",
    "from stock.util.util import read_yaml_file\n",
    "\n",
    "from stock.constant import DATASET_SCHEMA_COLUMNS_KEY\n",
    "stock_data_copy = pd.read_csv(file_path)\n",
    "\n",
    "stock_data_copy[\"Date\"] = pd.to_datetime(stock_data_copy['Date'])\n",
    "stock_data_copy['Date'] = pd.to_numeric(stock_data_copy[\"Date\"])\n",
    "\n",
    "\n",
    "filtered_stock_df =stock_data_copy.filter(['Date', 'Close', 'Prev Close','Open','High','Low', 'Last', 'VWap', 'Volume', 'Turnover', 'Trades'])\n",
    "\n",
    "\n",
    "filtered_stock_df.rename(columns = {'Prev Close':'Prev_Close'}, inplace = True)\n",
    "filtered_stock_df.dtypes\n",
    "filtered_stock_df.index\n",
    "print(stock_data_copy.columns)\n",
    "filtered_stock_df = stock_data_copy.drop(['Symbol', 'Series', 'Last','Turnover', 'Trades', 'Deliverable Volume','%Deliverble'],axis=1)\n",
    "filtered_stock_df"
   ]
  },
  {
   "cell_type": "code",
   "execution_count": 20,
   "metadata": {},
   "outputs": [
    {
     "name": "stdout",
     "output_type": "stream",
     "text": [
      "2022-07-26 00:31:09.517694\n"
     ]
    },
    {
     "data": {
      "text/plain": [
       "datetime.datetime"
      ]
     },
     "execution_count": 20,
     "metadata": {},
     "output_type": "execute_result"
    }
   ],
   "source": [
    "import datetime\n",
    "mydate = datetime.date(2022,7,14)\n",
    "x = datetime.datetime.now()\n",
    "print(x)\n",
    "type(x)"
   ]
  },
  {
   "cell_type": "code",
   "execution_count": 6,
   "metadata": {},
   "outputs": [],
   "source": [
    "import os\n",
    "os.getcwd()\n",
    "os.chdir('c:\\\\Users\\\\arunk\\\\OneDrive\\\\Documents\\\\GitHub\\\\investment_prediction')"
   ]
  },
  {
   "cell_type": "code",
   "execution_count": null,
   "metadata": {},
   "outputs": [],
   "source": [
    "stock_data_frame = stock_data_frame[[\"Date\",\"High\", \"Low\", \"Open\", \"Close\", \"Last\", \"Volume\"]]\n",
    "sliced_train_set = stock_data_frame.iloc[:987,:]\n",
    "sliced_test_set = stock_data_frame.iloc[987:,:]"
   ]
  },
  {
   "cell_type": "code",
   "execution_count": null,
   "metadata": {},
   "outputs": [
    {
     "data": {
      "text/plain": [
       "Symbol                 object\n",
       "Series                 object\n",
       "Prev Close            float64\n",
       "Open                  float64\n",
       "High                  float64\n",
       "Low                   float64\n",
       "Last                  float64\n",
       "Close                 float64\n",
       "VWAP                  float64\n",
       "Volume                  int64\n",
       "Turnover              float64\n",
       "Trades                  int64\n",
       "Deliverable Volume      int64\n",
       "%Deliverble           float64\n",
       "dtype: object"
      ]
     },
     "execution_count": 3,
     "metadata": {},
     "output_type": "execute_result"
    }
   ],
   "source": [
    "stock_data.dtypes"
   ]
  },
  {
   "cell_type": "code",
   "execution_count": null,
   "metadata": {},
   "outputs": [
    {
     "data": {
      "text/plain": [
       "Index(['Symbol', 'Series', 'Prev Close', 'Open', 'High', 'Low', 'Last',\n",
       "       'Close', 'VWAP', 'Volume', 'Turnover', 'Trades', 'Deliverable Volume',\n",
       "       '%Deliverble'],\n",
       "      dtype='object')"
      ]
     },
     "execution_count": 4,
     "metadata": {},
     "output_type": "execute_result"
    }
   ],
   "source": [
    "stock_data.columns\n"
   ]
  },
  {
   "cell_type": "code",
   "execution_count": null,
   "metadata": {},
   "outputs": [
    {
     "ename": "",
     "evalue": "",
     "output_type": "error",
     "traceback": [
      "\u001b[1;31mFailed to start the Kernel. \n",
      "Unable to start Kernel 'stockenv (Python 3.10.5)' due to connection timeout. \n",
      "View Jupyter <a href='command:jupyter.viewOutput'>log</a> for further details."
     ]
    }
   ],
   "source": [
    "# feature selection \n",
    "stock = stock_data[[ 'Open', 'High', 'Low','Close','Volume']]\n",
    "\n",
    "stock"
   ]
  },
  {
   "cell_type": "code",
   "execution_count": null,
   "metadata": {},
   "outputs": [
    {
     "data": {
      "text/plain": [
       "Open      float64\n",
       "High      float64\n",
       "Low       float64\n",
       "Close     float64\n",
       "Volume      int64\n",
       "dtype: object"
      ]
     },
     "execution_count": 65,
     "metadata": {},
     "output_type": "execute_result"
    }
   ],
   "source": [
    "stock.dtypes"
   ]
  },
  {
   "cell_type": "markdown",
   "metadata": {},
   "source": [
    "#### converting date to dateime format"
   ]
  },
  {
   "cell_type": "code",
   "execution_count": null,
   "metadata": {},
   "outputs": [],
   "source": [
    "\n",
    "stock.index = pd.to_datetime(stock.index)"
   ]
  },
  {
   "cell_type": "code",
   "execution_count": null,
   "metadata": {},
   "outputs": [
    {
     "data": {
      "text/plain": [
       "DatetimeIndex(['2017-01-02', '2017-01-03', '2017-01-04', '2017-01-05',\n",
       "               '2017-01-06', '2017-01-09', '2017-01-10', '2017-01-11',\n",
       "               '2017-01-12', '2017-01-13',\n",
       "               ...\n",
       "               '2022-06-30', '2022-07-01', '2022-07-04', '2022-07-05',\n",
       "               '2022-07-06', '2022-07-07', '2022-07-08', '2022-07-11',\n",
       "               '2022-07-12', '2022-07-13'],\n",
       "              dtype='datetime64[ns]', name='Date', length=1371, freq=None)"
      ]
     },
     "execution_count": 71,
     "metadata": {},
     "output_type": "execute_result"
    }
   ],
   "source": [
    "stock.index"
   ]
  },
  {
   "cell_type": "code",
   "execution_count": null,
   "metadata": {},
   "outputs": [
    {
     "data": {
      "text/html": [
       "<div>\n",
       "<style scoped>\n",
       "    .dataframe tbody tr th:only-of-type {\n",
       "        vertical-align: middle;\n",
       "    }\n",
       "\n",
       "    .dataframe tbody tr th {\n",
       "        vertical-align: top;\n",
       "    }\n",
       "\n",
       "    .dataframe thead th {\n",
       "        text-align: right;\n",
       "    }\n",
       "</style>\n",
       "<table border=\"1\" class=\"dataframe\">\n",
       "  <thead>\n",
       "    <tr style=\"text-align: right;\">\n",
       "      <th></th>\n",
       "      <th>Open</th>\n",
       "      <th>High</th>\n",
       "      <th>Low</th>\n",
       "      <th>Close</th>\n",
       "      <th>Volume</th>\n",
       "    </tr>\n",
       "    <tr>\n",
       "      <th>Date</th>\n",
       "      <th></th>\n",
       "      <th></th>\n",
       "      <th></th>\n",
       "      <th></th>\n",
       "      <th></th>\n",
       "    </tr>\n",
       "  </thead>\n",
       "  <tbody>\n",
       "    <tr>\n",
       "      <th>2017-01-02</th>\n",
       "      <td>252.5</td>\n",
       "      <td>253.65</td>\n",
       "      <td>242.6</td>\n",
       "      <td>243.6</td>\n",
       "      <td>25988990</td>\n",
       "    </tr>\n",
       "    <tr>\n",
       "      <th>2017-01-03</th>\n",
       "      <td>244.0</td>\n",
       "      <td>246.40</td>\n",
       "      <td>241.1</td>\n",
       "      <td>244.9</td>\n",
       "      <td>15963085</td>\n",
       "    </tr>\n",
       "    <tr>\n",
       "      <th>2017-01-04</th>\n",
       "      <td>245.8</td>\n",
       "      <td>246.40</td>\n",
       "      <td>242.2</td>\n",
       "      <td>242.9</td>\n",
       "      <td>11225978</td>\n",
       "    </tr>\n",
       "  </tbody>\n",
       "</table>\n",
       "</div>"
      ],
      "text/plain": [
       "             Open    High    Low  Close    Volume\n",
       "Date                                             \n",
       "2017-01-02  252.5  253.65  242.6  243.6  25988990\n",
       "2017-01-03  244.0  246.40  241.1  244.9  15963085\n",
       "2017-01-04  245.8  246.40  242.2  242.9  11225978"
      ]
     },
     "execution_count": 68,
     "metadata": {},
     "output_type": "execute_result"
    }
   ],
   "source": [
    "stock.head(3)"
   ]
  },
  {
   "cell_type": "code",
   "execution_count": null,
   "metadata": {},
   "outputs": [
    {
     "data": {
      "text/plain": [
       "Date      0\n",
       "Open      0\n",
       "High      0\n",
       "Low       0\n",
       "Close     0\n",
       "Volume    0\n",
       "dtype: int64"
      ]
     },
     "execution_count": 30,
     "metadata": {},
     "output_type": "execute_result"
    }
   ],
   "source": [
    "stock.isnull().sum()"
   ]
  },
  {
   "cell_type": "code",
   "execution_count": null,
   "metadata": {},
   "outputs": [
    {
     "data": {
      "text/plain": [
       "(1371, 5)"
      ]
     },
     "execution_count": 52,
     "metadata": {},
     "output_type": "execute_result"
    }
   ],
   "source": [
    "stock.shape"
   ]
  },
  {
   "cell_type": "code",
   "execution_count": null,
   "metadata": {},
   "outputs": [
    {
     "data": {
      "text/html": [
       "<div>\n",
       "<style scoped>\n",
       "    .dataframe tbody tr th:only-of-type {\n",
       "        vertical-align: middle;\n",
       "    }\n",
       "\n",
       "    .dataframe tbody tr th {\n",
       "        vertical-align: top;\n",
       "    }\n",
       "\n",
       "    .dataframe thead th {\n",
       "        text-align: right;\n",
       "    }\n",
       "</style>\n",
       "<table border=\"1\" class=\"dataframe\">\n",
       "  <thead>\n",
       "    <tr style=\"text-align: right;\">\n",
       "      <th></th>\n",
       "      <th>Open</th>\n",
       "      <th>High</th>\n",
       "      <th>Low</th>\n",
       "      <th>Close</th>\n",
       "      <th>Volume</th>\n",
       "    </tr>\n",
       "  </thead>\n",
       "  <tbody>\n",
       "    <tr>\n",
       "      <th>count</th>\n",
       "      <td>1371.000000</td>\n",
       "      <td>1371.000000</td>\n",
       "      <td>1371.000000</td>\n",
       "      <td>1371.000000</td>\n",
       "      <td>1.371000e+03</td>\n",
       "    </tr>\n",
       "    <tr>\n",
       "      <th>mean</th>\n",
       "      <td>319.804413</td>\n",
       "      <td>324.049927</td>\n",
       "      <td>315.076878</td>\n",
       "      <td>319.416776</td>\n",
       "      <td>3.129885e+07</td>\n",
       "    </tr>\n",
       "    <tr>\n",
       "      <th>std</th>\n",
       "      <td>90.393328</td>\n",
       "      <td>91.262806</td>\n",
       "      <td>89.552827</td>\n",
       "      <td>90.477620</td>\n",
       "      <td>2.558331e+07</td>\n",
       "    </tr>\n",
       "    <tr>\n",
       "      <th>min</th>\n",
       "      <td>151.950000</td>\n",
       "      <td>153.200000</td>\n",
       "      <td>149.450000</td>\n",
       "      <td>150.850000</td>\n",
       "      <td>2.171603e+06</td>\n",
       "    </tr>\n",
       "    <tr>\n",
       "      <th>25%</th>\n",
       "      <td>266.500000</td>\n",
       "      <td>269.775000</td>\n",
       "      <td>261.550000</td>\n",
       "      <td>266.575000</td>\n",
       "      <td>1.474672e+07</td>\n",
       "    </tr>\n",
       "    <tr>\n",
       "      <th>50%</th>\n",
       "      <td>295.900000</td>\n",
       "      <td>299.850000</td>\n",
       "      <td>291.500000</td>\n",
       "      <td>294.900000</td>\n",
       "      <td>2.228606e+07</td>\n",
       "    </tr>\n",
       "    <tr>\n",
       "      <th>75%</th>\n",
       "      <td>360.750000</td>\n",
       "      <td>365.000000</td>\n",
       "      <td>356.475000</td>\n",
       "      <td>360.625000</td>\n",
       "      <td>3.973941e+07</td>\n",
       "    </tr>\n",
       "    <tr>\n",
       "      <th>max</th>\n",
       "      <td>543.950000</td>\n",
       "      <td>549.000000</td>\n",
       "      <td>537.150000</td>\n",
       "      <td>540.550000</td>\n",
       "      <td>2.626771e+08</td>\n",
       "    </tr>\n",
       "  </tbody>\n",
       "</table>\n",
       "</div>"
      ],
      "text/plain": [
       "              Open         High          Low        Close        Volume\n",
       "count  1371.000000  1371.000000  1371.000000  1371.000000  1.371000e+03\n",
       "mean    319.804413   324.049927   315.076878   319.416776  3.129885e+07\n",
       "std      90.393328    91.262806    89.552827    90.477620  2.558331e+07\n",
       "min     151.950000   153.200000   149.450000   150.850000  2.171603e+06\n",
       "25%     266.500000   269.775000   261.550000   266.575000  1.474672e+07\n",
       "50%     295.900000   299.850000   291.500000   294.900000  2.228606e+07\n",
       "75%     360.750000   365.000000   356.475000   360.625000  3.973941e+07\n",
       "max     543.950000   549.000000   537.150000   540.550000  2.626771e+08"
      ]
     },
     "execution_count": 81,
     "metadata": {},
     "output_type": "execute_result"
    }
   ],
   "source": [
    "stock.describe()"
   ]
  },
  {
   "cell_type": "code",
   "execution_count": null,
   "metadata": {},
   "outputs": [
    {
     "data": {
      "text/plain": [
       "Index     10968\n",
       "Open      10968\n",
       "High      10968\n",
       "Low       10968\n",
       "Close     10968\n",
       "Volume    10968\n",
       "dtype: int64"
      ]
     },
     "execution_count": 84,
     "metadata": {},
     "output_type": "execute_result"
    }
   ],
   "source": [
    "stock.memory_usage(index=True,deep=True)"
   ]
  },
  {
   "cell_type": "code",
   "execution_count": null,
   "metadata": {},
   "outputs": [],
   "source": [
    "import pandas as pd \n",
    "import numpy as np\n",
    "import matplotlib.pyplot as plt\n",
    "%matplotlib inline\n",
    "from matplotlib.pylab import rcParams\n",
    "\n",
    "rcParams['figure.figsize']=20,10\n"
   ]
  },
  {
   "cell_type": "code",
   "execution_count": null,
   "metadata": {},
   "outputs": [
    {
     "data": {
      "text/plain": [
       "[<matplotlib.lines.Line2D at 0x1b6d269dab0>]"
      ]
     },
     "execution_count": 54,
     "metadata": {},
     "output_type": "execute_result"
    },
    {
     "data": {
      "image/png": "[encoded data removed]",
      "text/plain": [
       "<Figure size 1152x576 with 1 Axes>"
      ]
     },
     "metadata": {
      "needs_background": "light"
     },
     "output_type": "display_data"
    }
   ],
   "source": [
    "# stock[\"Date\"]=pd.to_datetime(stock.Date,format=\"%Y-%m-%d\")\n",
    "# stock.index=stock['Date']\n",
    "plt.figure(figsize=(16,8))\n",
    "plt.plot(stock[\"Close\"],label='Close Price history')"
   ]
  },
  {
   "cell_type": "markdown",
   "metadata": {},
   "source": [
    "As noticeable, around March 2020, we see a sudden drop in the price, after which it reports steady growth until recently.\n",
    "rapid changes that we can see in 2020 and 2022. \n",
    "price pattern between mid 2018 to mid 2019 are in uptrend\n",
    "                between 2017 and 2018 mostly sideways"
   ]
  },
  {
   "cell_type": "code",
   "execution_count": null,
   "metadata": {},
   "outputs": [],
   "source": [
    "# Scaling the stock data\n",
    "\n",
    "stock.set_index(pd.to_numeric(stock.index))\n",
    "scaler=MinMaxScaler(feature_range=(0,1))\n",
    "scaled_stock=scaler.fit_transform(stock)"
   ]
  },
  {
   "cell_type": "code",
   "execution_count": null,
   "metadata": {},
   "outputs": [
    {
     "data": {
      "text/plain": [
       "array([[0.2565051 , 0.25378979, 0.24026309, 0.23800359, 0.09142759],\n",
       "       [0.23482143, 0.23547246, 0.23639412, 0.24133949, 0.05294124],\n",
       "       [0.23941327, 0.23547246, 0.23923136, 0.23620734, 0.03475695],\n",
       "       ...,\n",
       "       [0.84961735, 0.8542193 , 0.86548878, 0.8656659 , 0.0212402 ],\n",
       "       [0.84961735, 0.85434563, 0.86058808, 0.85732615, 0.01993376],\n",
       "       [0.85663265, 0.85712481, 0.86432809, 0.86130357, 0.02317514]])"
      ]
     },
     "execution_count": 90,
     "metadata": {},
     "output_type": "execute_result"
    }
   ],
   "source": [
    "scaled_stock"
   ]
  },
  {
   "cell_type": "code",
   "execution_count": null,
   "metadata": {},
   "outputs": [
    {
     "data": {
      "text/plain": [
       "array([[-0.74484448, -0.77167928, -0.80961515, -0.83826742, -0.20762738],\n",
       "       [-0.83891228, -0.85114917, -0.82637115, -0.82389398, -0.59966277],\n",
       "       [-0.81899204, -0.85114917, -0.81408341, -0.84600696, -0.78489429],\n",
       "       ...,\n",
       "       [ 1.82818654,  1.83328905,  1.89815478,  1.86615001, -0.92258057],\n",
       "       [ 1.82818654,  1.83383712,  1.87693052,  1.83021642, -0.93588843],\n",
       "       [ 1.85862024,  1.84589462,  1.89312798,  1.84735398, -0.90287065]])"
      ]
     },
     "execution_count": 94,
     "metadata": {},
     "output_type": "execute_result"
    }
   ],
   "source": [
    "from sklearn.preprocessing import StandardScaler\n",
    "scaler = StandardScaler()\n",
    "standard_df = scaler.fit_transform(stock)\n",
    "\n",
    "standard_df"
   ]
  },
  {
   "cell_type": "code",
   "execution_count": null,
   "metadata": {},
   "outputs": [
    {
     "data": {
      "text/html": [
       "<div>\n",
       "<style scoped>\n",
       "    .dataframe tbody tr th:only-of-type {\n",
       "        vertical-align: middle;\n",
       "    }\n",
       "\n",
       "    .dataframe tbody tr th {\n",
       "        vertical-align: top;\n",
       "    }\n",
       "\n",
       "    .dataframe thead th {\n",
       "        text-align: right;\n",
       "    }\n",
       "</style>\n",
       "<table border=\"1\" class=\"dataframe\">\n",
       "  <thead>\n",
       "    <tr style=\"text-align: right;\">\n",
       "      <th></th>\n",
       "      <th>Open</th>\n",
       "      <th>High</th>\n",
       "      <th>Low</th>\n",
       "      <th>Close</th>\n",
       "      <th>Volume</th>\n",
       "    </tr>\n",
       "    <tr>\n",
       "      <th>Date</th>\n",
       "      <th></th>\n",
       "      <th></th>\n",
       "      <th></th>\n",
       "      <th></th>\n",
       "      <th></th>\n",
       "    </tr>\n",
       "  </thead>\n",
       "  <tbody>\n",
       "    <tr>\n",
       "      <th>2017-01-02</th>\n",
       "      <td>252.50</td>\n",
       "      <td>253.65</td>\n",
       "      <td>242.60</td>\n",
       "      <td>243.60</td>\n",
       "      <td>25988990</td>\n",
       "    </tr>\n",
       "    <tr>\n",
       "      <th>2017-01-03</th>\n",
       "      <td>244.00</td>\n",
       "      <td>246.40</td>\n",
       "      <td>241.10</td>\n",
       "      <td>244.90</td>\n",
       "      <td>15963085</td>\n",
       "    </tr>\n",
       "    <tr>\n",
       "      <th>2017-01-04</th>\n",
       "      <td>245.80</td>\n",
       "      <td>246.40</td>\n",
       "      <td>242.20</td>\n",
       "      <td>242.90</td>\n",
       "      <td>11225978</td>\n",
       "    </tr>\n",
       "    <tr>\n",
       "      <th>2017-01-05</th>\n",
       "      <td>245.00</td>\n",
       "      <td>245.90</td>\n",
       "      <td>243.70</td>\n",
       "      <td>245.35</td>\n",
       "      <td>11970913</td>\n",
       "    </tr>\n",
       "    <tr>\n",
       "      <th>2017-01-06</th>\n",
       "      <td>246.00</td>\n",
       "      <td>249.00</td>\n",
       "      <td>245.50</td>\n",
       "      <td>245.90</td>\n",
       "      <td>12354302</td>\n",
       "    </tr>\n",
       "    <tr>\n",
       "      <th>...</th>\n",
       "      <td>...</td>\n",
       "      <td>...</td>\n",
       "      <td>...</td>\n",
       "      <td>...</td>\n",
       "      <td>...</td>\n",
       "    </tr>\n",
       "    <tr>\n",
       "      <th>2022-07-07</th>\n",
       "      <td>484.00</td>\n",
       "      <td>488.25</td>\n",
       "      <td>481.60</td>\n",
       "      <td>486.75</td>\n",
       "      <td>11497832</td>\n",
       "    </tr>\n",
       "    <tr>\n",
       "      <th>2022-07-08</th>\n",
       "      <td>489.00</td>\n",
       "      <td>489.90</td>\n",
       "      <td>485.15</td>\n",
       "      <td>488.55</td>\n",
       "      <td>9057231</td>\n",
       "    </tr>\n",
       "    <tr>\n",
       "      <th>2022-07-11</th>\n",
       "      <td>485.00</td>\n",
       "      <td>491.30</td>\n",
       "      <td>485.00</td>\n",
       "      <td>488.20</td>\n",
       "      <td>7704792</td>\n",
       "    </tr>\n",
       "    <tr>\n",
       "      <th>2022-07-12</th>\n",
       "      <td>485.00</td>\n",
       "      <td>491.35</td>\n",
       "      <td>483.10</td>\n",
       "      <td>484.95</td>\n",
       "      <td>7364457</td>\n",
       "    </tr>\n",
       "    <tr>\n",
       "      <th>2022-07-13</th>\n",
       "      <td>487.75</td>\n",
       "      <td>492.45</td>\n",
       "      <td>484.55</td>\n",
       "      <td>486.50</td>\n",
       "      <td>8208853</td>\n",
       "    </tr>\n",
       "  </tbody>\n",
       "</table>\n",
       "<p>1371 rows × 5 columns</p>\n",
       "</div>"
      ],
      "text/plain": [
       "              Open    High     Low   Close    Volume\n",
       "Date                                                \n",
       "2017-01-02  252.50  253.65  242.60  243.60  25988990\n",
       "2017-01-03  244.00  246.40  241.10  244.90  15963085\n",
       "2017-01-04  245.80  246.40  242.20  242.90  11225978\n",
       "2017-01-05  245.00  245.90  243.70  245.35  11970913\n",
       "2017-01-06  246.00  249.00  245.50  245.90  12354302\n",
       "...            ...     ...     ...     ...       ...\n",
       "2022-07-07  484.00  488.25  481.60  486.75  11497832\n",
       "2022-07-08  489.00  489.90  485.15  488.55   9057231\n",
       "2022-07-11  485.00  491.30  485.00  488.20   7704792\n",
       "2022-07-12  485.00  491.35  483.10  484.95   7364457\n",
       "2022-07-13  487.75  492.45  484.55  486.50   8208853\n",
       "\n",
       "[1371 rows x 5 columns]"
      ]
     },
     "execution_count": 88,
     "metadata": {},
     "output_type": "execute_result"
    }
   ],
   "source": [
    "stock"
   ]
  },
  {
   "cell_type": "code",
   "execution_count": null,
   "metadata": {},
   "outputs": [
    {
     "data": {
      "text/html": [
       "<div>\n",
       "<style scoped>\n",
       "    .dataframe tbody tr th:only-of-type {\n",
       "        vertical-align: middle;\n",
       "    }\n",
       "\n",
       "    .dataframe tbody tr th {\n",
       "        vertical-align: top;\n",
       "    }\n",
       "\n",
       "    .dataframe thead th {\n",
       "        text-align: right;\n",
       "    }\n",
       "</style>\n",
       "<table border=\"1\" class=\"dataframe\">\n",
       "  <thead>\n",
       "    <tr style=\"text-align: right;\">\n",
       "      <th></th>\n",
       "      <th>Close</th>\n",
       "    </tr>\n",
       "    <tr>\n",
       "      <th>Date</th>\n",
       "      <th></th>\n",
       "    </tr>\n",
       "  </thead>\n",
       "  <tbody>\n",
       "    <tr>\n",
       "      <th>2017-01-02</th>\n",
       "      <td>243.60</td>\n",
       "    </tr>\n",
       "    <tr>\n",
       "      <th>2017-01-03</th>\n",
       "      <td>244.90</td>\n",
       "    </tr>\n",
       "    <tr>\n",
       "      <th>2017-01-04</th>\n",
       "      <td>242.90</td>\n",
       "    </tr>\n",
       "    <tr>\n",
       "      <th>2017-01-05</th>\n",
       "      <td>245.35</td>\n",
       "    </tr>\n",
       "    <tr>\n",
       "      <th>2017-01-06</th>\n",
       "      <td>245.90</td>\n",
       "    </tr>\n",
       "    <tr>\n",
       "      <th>...</th>\n",
       "      <td>...</td>\n",
       "    </tr>\n",
       "    <tr>\n",
       "      <th>2022-07-07</th>\n",
       "      <td>486.75</td>\n",
       "    </tr>\n",
       "    <tr>\n",
       "      <th>2022-07-08</th>\n",
       "      <td>488.55</td>\n",
       "    </tr>\n",
       "    <tr>\n",
       "      <th>2022-07-11</th>\n",
       "      <td>488.20</td>\n",
       "    </tr>\n",
       "    <tr>\n",
       "      <th>2022-07-12</th>\n",
       "      <td>484.95</td>\n",
       "    </tr>\n",
       "    <tr>\n",
       "      <th>2022-07-13</th>\n",
       "      <td>486.50</td>\n",
       "    </tr>\n",
       "  </tbody>\n",
       "</table>\n",
       "<p>1371 rows × 1 columns</p>\n",
       "</div>"
      ],
      "text/plain": [
       "             Close\n",
       "Date              \n",
       "2017-01-02  243.60\n",
       "2017-01-03  244.90\n",
       "2017-01-04  242.90\n",
       "2017-01-05  245.35\n",
       "2017-01-06  245.90\n",
       "...            ...\n",
       "2022-07-07  486.75\n",
       "2022-07-08  488.55\n",
       "2022-07-11  488.20\n",
       "2022-07-12  484.95\n",
       "2022-07-13  486.50\n",
       "\n",
       "[1371 rows x 1 columns]"
      ]
     },
     "execution_count": 72,
     "metadata": {},
     "output_type": "execute_result"
    }
   ],
   "source": [
    "data=stock.sort_index(ascending=True,axis=0)\n",
    "new_dataset = data[['Close']]\n",
    "new_dataset"
   ]
  },
  {
   "cell_type": "markdown",
   "metadata": {},
   "source": [
    "## normalize data filtered dataset"
   ]
  },
  {
   "cell_type": "code",
   "execution_count": null,
   "metadata": {},
   "outputs": [],
   "source": [
    "\n",
    "\n",
    "from sklearn.preprocessing import MinMaxScaler\n",
    "\n",
    "scaler=MinMaxScaler(feature_range=(0,1))\n",
    "final_dataset=new_dataset.values\n",
    "train_data=final_dataset[0:987,:]\n",
    "valid_data=final_dataset[987:,:]\n",
    "\n",
    "new_dataset.set_index(pd.to_numeric(new_dataset.index))\n",
    "scaler=MinMaxScaler(feature_range=(0,1))\n",
    "scaled_data=scaler.fit_transform(final_dataset)\n",
    "x_train_data,y_train_data=[],[]\n",
    "for i in range(60,len(train_data)):\n",
    "    x_train_data.append(scaled_data[i-60:i,0])\n",
    "    y_train_data.append(scaled_data[i,0])\n",
    "    \n",
    "x_train_data,y_train_data=np.array(x_train_data),np.array(y_train_data)\n",
    "x_train_data=np.reshape(x_train_data,(x_train_data.shape[0],x_train_data.shape[1],1))\n"
   ]
  },
  {
   "cell_type": "code",
   "execution_count": null,
   "metadata": {},
   "outputs": [
    {
     "name": "stdout",
     "output_type": "stream",
     "text": [
      "(927, 60, 1)\n",
      "(927,)\n"
     ]
    }
   ],
   "source": [
    "print(x_train_data.shape)\n",
    "print(y_train_data.shape)"
   ]
  },
  {
   "cell_type": "code",
   "execution_count": null,
   "metadata": {},
   "outputs": [
    {
     "ename": "ModuleNotFoundError",
     "evalue": "No module named 'tensorflow'",
     "output_type": "error",
     "traceback": [
      "\u001b[1;31m---------------------------------------------------------------------------\u001b[0m",
      "\u001b[1;31mModuleNotFoundError\u001b[0m                       Traceback (most recent call last)",
      "\u001b[1;32mc:\\Users\\Lenovo\\Investment Predictions-ML\\notebook\\EDA.ipynb Cell 17\u001b[0m in \u001b[0;36m<cell line: 1>\u001b[1;34m()\u001b[0m\n\u001b[1;32m----> <a href='vscode-notebook-cell:/c%3A/Users/Lenovo/Investment%20Predictions-ML/notebook/EDA.ipynb#ch0000023?line=0'>1</a>\u001b[0m \u001b[39mfrom\u001b[39;00m \u001b[39mkeras\u001b[39;00m\u001b[39m.\u001b[39;00m\u001b[39mmodels\u001b[39;00m \u001b[39mimport\u001b[39;00m Sequential\n\u001b[0;32m      <a href='vscode-notebook-cell:/c%3A/Users/Lenovo/Investment%20Predictions-ML/notebook/EDA.ipynb#ch0000023?line=1'>2</a>\u001b[0m \u001b[39mfrom\u001b[39;00m \u001b[39mkeras\u001b[39;00m\u001b[39m.\u001b[39;00m\u001b[39mlayers\u001b[39;00m \u001b[39mimport\u001b[39;00m LSTM\n\u001b[0;32m      <a href='vscode-notebook-cell:/c%3A/Users/Lenovo/Investment%20Predictions-ML/notebook/EDA.ipynb#ch0000023?line=2'>3</a>\u001b[0m \u001b[39mfrom\u001b[39;00m \u001b[39mkeras\u001b[39;00m\u001b[39m.\u001b[39;00m\u001b[39mlayers\u001b[39;00m \u001b[39mimport\u001b[39;00m Dense \n",
      "File \u001b[1;32mc:\\Users\\Lenovo\\anaconda3\\envs\\stockenv\\lib\\site-packages\\keras\\__init__.py:21\u001b[0m, in \u001b[0;36m<module>\u001b[1;34m\u001b[0m\n\u001b[0;32m     15\u001b[0m \u001b[39m\"\"\"Implementation of the Keras API, the high-level API of TensorFlow.\u001b[39;00m\n\u001b[0;32m     16\u001b[0m \n\u001b[0;32m     17\u001b[0m \u001b[39mDetailed documentation and user guides are available at\u001b[39;00m\n\u001b[0;32m     18\u001b[0m \u001b[39m[keras.io](https://keras.io).\u001b[39;00m\n\u001b[0;32m     19\u001b[0m \u001b[39m\"\"\"\u001b[39;00m\n\u001b[0;32m     20\u001b[0m \u001b[39m# pylint: disable=unused-import\u001b[39;00m\n\u001b[1;32m---> 21\u001b[0m \u001b[39mfrom\u001b[39;00m \u001b[39mtensorflow\u001b[39;00m\u001b[39m.\u001b[39;00m\u001b[39mpython\u001b[39;00m \u001b[39mimport\u001b[39;00m tf2\n\u001b[0;32m     22\u001b[0m \u001b[39mfrom\u001b[39;00m \u001b[39mkeras\u001b[39;00m \u001b[39mimport\u001b[39;00m distribute\n\u001b[0;32m     24\u001b[0m \u001b[39mfrom\u001b[39;00m \u001b[39mkeras\u001b[39;00m \u001b[39mimport\u001b[39;00m models\n",
      "\u001b[1;31mModuleNotFoundError\u001b[0m: No module named 'tensorflow'"
     ]
    }
   ],
   "source": [
    "from keras.models import Sequential\n",
    "from keras.layers import LSTM\n",
    "from keras.layers import Dense \n",
    "from keras.layers import Dropout"
   ]
  }
 ],
 "metadata": {
  "kernelspec": {
   "display_name": "Python 3.9.0 ('stockenv39')",
   "language": "python",
   "name": "python3"
  },
  "language_info": {
   "codemirror_mode": {
    "name": "ipython",
    "version": 3
   },
   "file_extension": ".py",
   "mimetype": "text/x-python",
   "name": "python",
   "nbconvert_exporter": "python",
   "pygments_lexer": "ipython3",
   "version": "3.9.0"
  },
  "orig_nbformat": 4,
  "vscode": {
   "interpreter": {
    "hash": "a80a5401c0dd8c0ec3c875139de8fc736d60c31914f8d777e1b715702f7030fe"
   }
  }
 },
 "nbformat": 4,
 "nbformat_minor": 2
}
