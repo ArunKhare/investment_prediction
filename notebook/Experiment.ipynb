{
 "cells": [
  {
   "cell_type": "code",
   "execution_count": 1,
   "id": "50dc3589",
   "metadata": {},
   "outputs": [],
   "source": [
    "from collections import namedtuple\n",
    "from threading import Thread\n",
    "from datetime import datetime\n",
    "import pandas as pd\n",
    "import uuid"
   ]
  },
  {
   "cell_type": "code",
   "execution_count": 2,
   "id": "9b3aef4d",
   "metadata": {},
   "outputs": [],
   "source": [
    "class Experiment:\n",
    "    running_status=False\n",
    "    def __new__(cls,*args,**kwargs):\n",
    "        if Experiment.running_status:\n",
    "            raise Exception(\"Experiment is already running hence new experiment can not be created\")\n",
    "        return super(Experiment,cls).__new__(cls,*args,**kwargs) # to create an instance of the class inside new method\n",
    "\n",
    "    def __init__(self,experiment_id):\n",
    "        self.experiment_id = experiment_id\n",
    "        self.running_status = Experiment.running_status\n"
   ]
  },
  {
   "cell_type": "code",
   "execution_count": 3,
   "id": "b0a8df2c",
   "metadata": {},
   "outputs": [
    {
     "name": "stdout",
     "output_type": "stream",
     "text": [
      "-----TYPE : <class 'type'> <class '__main__.Experiment'>\n"
     ]
    }
   ],
   "source": [
    "print(f'-----TYPE : {type(Experiment)}',Experiment)"
   ]
  },
  {
   "cell_type": "code",
   "execution_count": 4,
   "id": "828e135e",
   "metadata": {},
   "outputs": [],
   "source": [
    "# declaring class Parameters\n",
    "Experiment = namedtuple(\"Experiment\", [\"experiment_id\", \"initialization_timestamp\", \"artifact_time_stamp\",\n",
    "                                       \"running_status\", \"start_time\", \"stop_time\", \"execution_time\", \"message\",\n",
    "                                       \"experiment_file_path\", \"accuracy\", \"is_model_accepted\"])\n"
   ]
  },
  {
   "cell_type": "code",
   "execution_count": 5,
   "id": "90310a93",
   "metadata": {},
   "outputs": [
    {
     "name": "stdout",
     "output_type": "stream",
     "text": [
      "-----TYPE : <class 'type'>====> Before :  <class '__main__.Experiment'>\n",
      "-----TYPE : <class 'type'>====>  after :  <class '__main__.Experiment'>\n"
     ]
    }
   ],
   "source": [
    "print(f'-----TYPE : {type(Experiment)}====>', \"Before : \", Experiment)\n",
    "\n",
    "# creating an instance of the class by passing the arugments\n",
    "Experiment(*([None]*11)) \n",
    "\n",
    "print(f'-----TYPE : {type(Experiment)}====>', \" after : \", Experiment)"
   ]
  },
  {
   "cell_type": "code",
   "execution_count": 78,
   "id": "4b6127e1",
   "metadata": {},
   "outputs": [],
   "source": [
    "class Pipeline(Thread):\n",
    "    experiment:Experiment = Experiment(*([None]*11)) \n",
    "    def __init__(self)-> None:\n",
    "        super().__init__(daemon=False,name=\"pipeline\")\n",
    "    def run():\n",
    "        \n",
    "        running_status= True\n",
    "        experiment_id = str(uuid.uuid4())\n",
    "        \n",
    "        if Pipeline.experiment.running_status:\n",
    "            return Pipeline.experiment\n",
    "        Pipeline.experiment = Experiment(experiment_id=experiment_id,\n",
    "                                             initialization_timestamp=\"1/7/2022\",\n",
    "                                             artifact_time_stamp=\"2/7/2022\",\n",
    "                                             running_status=running_status,\n",
    "                                             start_time=datetime.now(),\n",
    "                                             stop_time=None,\n",
    "                                             execution_time=None,\n",
    "                                             experiment_file_path=\"Pipeline.experiment_file_path,\",\n",
    "                                             is_model_accepted=None,\n",
    "                                             message=\"Pipeline has been started.\",\n",
    "                                             accuracy=None,\n",
    "        )\n",
    "        \n",
    "    def stop():\n",
    "        running_status=False\n",
    "        return running_status\n",
    "        \n",
    "    @classmethod\n",
    "    def get_expriments_status(cls, limit: int=5) -> pd.DataFrame:\n",
    "        limit = 5\n",
    "        \n",
    "        df = pd.DataFrame.from_records([Pipeline.experiment], columns=Experiment._fields)\n",
    "        if any(df):\n",
    "            limit = -1* int(limit)\n",
    "            return df[limit:].drop(columns=[\"experiment_file_path\",\"initialization_timestamp\"], axis=1)\n",
    "            \n",
    "        else:\n",
    "            return pd.DataFrame()\n",
    "       "
   ]
  },
  {
   "cell_type": "code",
   "execution_count": 84,
   "id": "31c3e038",
   "metadata": {},
   "outputs": [
    {
     "data": {
      "text/plain": [
       "Experiment(experiment_id='1275fbd6-7c6a-4e06-8be7-7a0b460e548a', initialization_timestamp='1/7/2022', artifact_time_stamp='2/7/2022', running_status=True, start_time=datetime.datetime(2022, 7, 29, 14, 38, 0, 543668), stop_time=None, execution_time=None, message='Pipeline has been started.', experiment_file_path='Pipeline.experiment_file_path,', accuracy=None, is_model_accepted=None)"
      ]
     },
     "execution_count": 84,
     "metadata": {},
     "output_type": "execute_result"
    }
   ],
   "source": [
    "Pipeline.experiment"
   ]
  },
  {
   "cell_type": "code",
   "execution_count": 85,
   "id": "c3ab6c70",
   "metadata": {},
   "outputs": [
    {
     "data": {
      "text/html": [
       "<div>\n",
       "<style scoped>\n",
       "    .dataframe tbody tr th:only-of-type {\n",
       "        vertical-align: middle;\n",
       "    }\n",
       "\n",
       "    .dataframe tbody tr th {\n",
       "        vertical-align: top;\n",
       "    }\n",
       "\n",
       "    .dataframe thead th {\n",
       "        text-align: right;\n",
       "    }\n",
       "</style>\n",
       "<table border=\"1\" class=\"dataframe\">\n",
       "  <thead>\n",
       "    <tr style=\"text-align: right;\">\n",
       "      <th></th>\n",
       "      <th>experiment_id</th>\n",
       "      <th>artifact_time_stamp</th>\n",
       "      <th>running_status</th>\n",
       "      <th>start_time</th>\n",
       "      <th>stop_time</th>\n",
       "      <th>execution_time</th>\n",
       "      <th>message</th>\n",
       "      <th>accuracy</th>\n",
       "      <th>is_model_accepted</th>\n",
       "    </tr>\n",
       "  </thead>\n",
       "  <tbody>\n",
       "    <tr>\n",
       "      <th>0</th>\n",
       "      <td>1275fbd6-7c6a-4e06-8be7-7a0b460e548a</td>\n",
       "      <td>2/7/2022</td>\n",
       "      <td>True</td>\n",
       "      <td>2022-07-29 14:38:00.543668</td>\n",
       "      <td>None</td>\n",
       "      <td>None</td>\n",
       "      <td>Pipeline has been started.</td>\n",
       "      <td>None</td>\n",
       "      <td>None</td>\n",
       "    </tr>\n",
       "  </tbody>\n",
       "</table>\n",
       "</div>"
      ],
      "text/plain": [
       "                          experiment_id artifact_time_stamp  running_status  \\\n",
       "0  1275fbd6-7c6a-4e06-8be7-7a0b460e548a            2/7/2022            True   \n",
       "\n",
       "                  start_time stop_time execution_time  \\\n",
       "0 2022-07-29 14:38:00.543668      None           None   \n",
       "\n",
       "                      message accuracy is_model_accepted  \n",
       "0  Pipeline has been started.     None              None  "
      ]
     },
     "execution_count": 85,
     "metadata": {},
     "output_type": "execute_result"
    }
   ],
   "source": [
    "pipeline=Pipeline\n",
    "pipeline.run()\n",
    "Pipeline.get_expriments_status()"
   ]
  },
  {
   "cell_type": "code",
   "execution_count": 81,
   "id": "e7da9460",
   "metadata": {},
   "outputs": [],
   "source": [
    "Pipeline.stop()\n",
    "Pipeline.experiment = Experiment(*([None]*11)) "
   ]
  },
  {
   "cell_type": "code",
   "execution_count": null,
   "id": "5f9c2733",
   "metadata": {},
   "outputs": [],
   "source": []
  }
 ],
 "metadata": {
  "kernelspec": {
   "display_name": "Python 3 (ipykernel)",
   "language": "python",
   "name": "python3"
  },
  "language_info": {
   "codemirror_mode": {
    "name": "ipython",
    "version": 3
   },
   "file_extension": ".py",
   "mimetype": "text/x-python",
   "name": "python",
   "nbconvert_exporter": "python",
   "pygments_lexer": "ipython3",
   "version": "3.9.12"
  }
 },
 "nbformat": 4,
 "nbformat_minor": 5
}
