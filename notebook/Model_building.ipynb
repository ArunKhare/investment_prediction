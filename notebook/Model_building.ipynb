{
 "cells": [
  {
   "cell_type": "code",
   "execution_count": 1,
   "metadata": {},
   "outputs": [],
   "source": [
    "file_path =  r\"C:\\Users\\arunk\\Downloads\\SBIN\""
   ]
  },
  {
   "cell_type": "code",
   "execution_count": null,
   "metadata": {},
   "outputs": [],
   "source": []
  },
  {
   "cell_type": "code",
   "execution_count": 2,
   "metadata": {},
   "outputs": [
    {
     "name": "stdout",
     "output_type": "stream",
     "text": [
      "         Date Symbol Series  Prev Close   Open    High    Low    Last   Close  \\\n",
      "0  2017-01-02   SBIN     EQ      250.20  252.5  253.65  242.6  243.55  243.60   \n",
      "1  2017-01-03   SBIN     EQ      243.60  244.0  246.40  241.1  244.90  244.90   \n",
      "2  2017-01-04   SBIN     EQ      244.90  245.8  246.40  242.2  243.20  242.90   \n",
      "3  2017-01-05   SBIN     EQ      242.90  245.0  245.90  243.7  245.50  245.35   \n",
      "4  2017-01-06   SBIN     EQ      245.35  246.0  249.00  245.5  246.05  245.90   \n",
      "\n",
      "     VWAP    Volume      Turnover  Trades  Deliverable Volume  %Deliverble  \n",
      "0  244.80  25988990  6.362168e+14  164268            12078409       0.4648  \n",
      "1  244.54  15963085  3.903556e+14  112537             4370526       0.2738  \n",
      "2  243.96  11225978  2.738651e+14   91672             3632352       0.3236  \n",
      "3  244.94  11970913  2.932209e+14   88254             4511456       0.3769  \n",
      "4  247.10  12354302  3.052714e+14   75839             3393716       0.2747  \n",
      "\n",
      " Shape of the data:\n",
      "(1370, 15)\n",
      "\n",
      " Shape of training set:\n",
      "(987, 2)\n",
      "\n",
      " Shape of validation set:\n",
      "(383, 2)\n",
      "\n",
      " RMSE value on validation set:\n",
      "212.55991626926146\n"
     ]
    }
   ],
   "source": [
    "# importing libraries\n",
    "import pandas as pd\n",
    "import numpy as np\n",
    "\n",
    "# reading the data\n",
    "df = pd.read_csv(file_path)\n",
    "\n",
    "# looking at the first five rows of the data\n",
    "print(df.head())\n",
    "print('\\n Shape of the data:')\n",
    "print(df.shape)\n",
    "\n",
    "# setting the index as date\n",
    "df['Date'] = pd.to_datetime(df.Date,format='%Y-%m-%d')\n",
    "df.index = df['Date']\n",
    "\n",
    "#creating dataframe with date and the target variable\n",
    "data = df.sort_index(ascending=True, axis=0)\n",
    "new_data = pd.DataFrame(index=range(0,len(df)),columns=['Date', 'Close'])\n",
    "\n",
    "for i in range(0,len(data)):\n",
    "     new_data['Date'][i] = data['Date'][i]\n",
    "     new_data['Close'][i] = data['Close'][i]\n",
    "\n",
    "# NOTE: While splitting the data into train and validation set, we cannot use random splitting since that will destroy the time component. So here we have set the last year’s data into validation and the 4 years’ data before that into train set.\n",
    "\n",
    "# splitting into train and validation\n",
    "train = new_data[:987]\n",
    "valid = new_data[987:]\n",
    "\n",
    "# shapes of training set\n",
    "print('\\n Shape of training set:')\n",
    "print(train.shape)\n",
    "\n",
    "# shapes of validation set\n",
    "print('\\n Shape of validation set:')\n",
    "print(valid.shape)\n",
    "\n",
    "# In the next step, we will create predictions for the validation set and check the RMSE using the actual values.\n",
    "# making predictions\n",
    "preds = []\n",
    "for i in range(0,valid.shape[0]):\n",
    "    a = train['Close'][len(train)-248+i:].sum() + sum(preds)\n",
    "    b = a/248\n",
    "    preds.append(b)\n",
    "\n",
    "# checking the results (RMSE value)\n",
    "rms=np.sqrt(np.mean(np.power((np.array(valid['Close'])-preds),2)))\n",
    "print('\\n RMSE value on validation set:')\n",
    "print(rms)"
   ]
  },
  {
   "cell_type": "code",
   "execution_count": 23,
   "metadata": {},
   "outputs": [],
   "source": [
    "new_data\n",
    "new_data['Date'] = pd.to_datetime(new_data.Date,format='%Y-%m-%d')\n",
    "new_data['year'] = new_data['Date'].dt.year\n",
    "new_data['month'] = new_data['Date'].dt.month\n",
    "new_data['day'] = new_data['Date'].dt.day\n"
   ]
  },
  {
   "cell_type": "code",
   "execution_count": 25,
   "metadata": {},
   "outputs": [
    {
     "data": {
      "text/html": [
       "<div>\n",
       "<style scoped>\n",
       "    .dataframe tbody tr th:only-of-type {\n",
       "        vertical-align: middle;\n",
       "    }\n",
       "\n",
       "    .dataframe tbody tr th {\n",
       "        vertical-align: top;\n",
       "    }\n",
       "\n",
       "    .dataframe thead th {\n",
       "        text-align: right;\n",
       "    }\n",
       "</style>\n",
       "<table border=\"1\" class=\"dataframe\">\n",
       "  <thead>\n",
       "    <tr style=\"text-align: right;\">\n",
       "      <th></th>\n",
       "      <th>Date</th>\n",
       "      <th>Close</th>\n",
       "      <th>year</th>\n",
       "      <th>month</th>\n",
       "      <th>day</th>\n",
       "    </tr>\n",
       "  </thead>\n",
       "  <tbody>\n",
       "    <tr>\n",
       "      <th>0</th>\n",
       "      <td>2017-01-02</td>\n",
       "      <td>243.6</td>\n",
       "      <td>2017</td>\n",
       "      <td>1</td>\n",
       "      <td>2</td>\n",
       "    </tr>\n",
       "    <tr>\n",
       "      <th>1</th>\n",
       "      <td>2017-01-03</td>\n",
       "      <td>244.9</td>\n",
       "      <td>2017</td>\n",
       "      <td>1</td>\n",
       "      <td>3</td>\n",
       "    </tr>\n",
       "    <tr>\n",
       "      <th>2</th>\n",
       "      <td>2017-01-04</td>\n",
       "      <td>242.9</td>\n",
       "      <td>2017</td>\n",
       "      <td>1</td>\n",
       "      <td>4</td>\n",
       "    </tr>\n",
       "    <tr>\n",
       "      <th>3</th>\n",
       "      <td>2017-01-05</td>\n",
       "      <td>245.35</td>\n",
       "      <td>2017</td>\n",
       "      <td>1</td>\n",
       "      <td>5</td>\n",
       "    </tr>\n",
       "    <tr>\n",
       "      <th>4</th>\n",
       "      <td>2017-01-06</td>\n",
       "      <td>245.9</td>\n",
       "      <td>2017</td>\n",
       "      <td>1</td>\n",
       "      <td>6</td>\n",
       "    </tr>\n",
       "  </tbody>\n",
       "</table>\n",
       "</div>"
      ],
      "text/plain": [
       "        Date   Close  year  month  day\n",
       "0 2017-01-02   243.6  2017      1    2\n",
       "1 2017-01-03   244.9  2017      1    3\n",
       "2 2017-01-04   242.9  2017      1    4\n",
       "3 2017-01-05  245.35  2017      1    5\n",
       "4 2017-01-06   245.9  2017      1    6"
      ]
     },
     "execution_count": 25,
     "metadata": {},
     "output_type": "execute_result"
    }
   ],
   "source": [
    "new_data.head()"
   ]
  },
  {
   "cell_type": "code",
   "execution_count": 28,
   "metadata": {},
   "outputs": [],
   "source": [
    "new_data['numeric_date'] = pd.to_numeric(new_data['Date'])"
   ]
  },
  {
   "cell_type": "code",
   "execution_count": 40,
   "metadata": {},
   "outputs": [
    {
     "data": {
      "text/plain": [
       "2"
      ]
     },
     "execution_count": 40,
     "metadata": {},
     "output_type": "execute_result"
    }
   ],
   "source": [
    "new_data['Date'].dt.dayofweek\n",
    "new_data['Date'].dt.weekday[2]\n",
    "# new_data['Date'].dt.day_name()\n"
   ]
  },
  {
   "cell_type": "code",
   "execution_count": 67,
   "metadata": {},
   "outputs": [],
   "source": [
    "new_data['mon_fri'] = 0\n",
    "for i in range(0,len(new_data)):\n",
    "    if (new_data['Date'].dt.weekday[i]==0 or new_data['Date'].dt.weekday[i]==4):\n",
    "        new_data['mon_fri'] = 1\n",
    "\n",
    "    else:\n",
    "        new_data['mon_fri'] = 0\n",
    "new_data.drop(['Date'], axis =1, inplace=True)"
   ]
  },
  {
   "cell_type": "code",
   "execution_count": 68,
   "metadata": {},
   "outputs": [],
   "source": [
    "new_data.dtypes\n",
    "new_data['Close'] = pd.to_numeric(new_data['Close'])"
   ]
  },
  {
   "cell_type": "code",
   "execution_count": 78,
   "metadata": {},
   "outputs": [
    {
     "data": {
      "text/plain": [
       "0"
      ]
     },
     "execution_count": 78,
     "metadata": {},
     "output_type": "execute_result"
    }
   ],
   "source": [
    "# split train  and validation\n",
    "\n",
    "train = new_data[:987]\n",
    "valid = new_data[987:]\n",
    "\n",
    "X_train =train.drop('Close',axis=1)\n",
    "y_train = train['Close']\n",
    "X_valid = valid.drop('Close',axis=1)\n",
    "y_valid = valid['Close']\n",
    "y_valid.isnull().sum()\n"
   ]
  },
  {
   "cell_type": "code",
   "execution_count": 79,
   "metadata": {},
   "outputs": [
    {
     "data": {
      "text/html": [
       "<style>#sk-container-id-3 {color: black;background-color: white;}#sk-container-id-3 pre{padding: 0;}#sk-container-id-3 div.sk-toggleable {background-color: white;}#sk-container-id-3 label.sk-toggleable__label {cursor: pointer;display: block;width: 100%;margin-bottom: 0;padding: 0.3em;box-sizing: border-box;text-align: center;}#sk-container-id-3 label.sk-toggleable__label-arrow:before {content: \"▸\";float: left;margin-right: 0.25em;color: #696969;}#sk-container-id-3 label.sk-toggleable__label-arrow:hover:before {color: black;}#sk-container-id-3 div.sk-estimator:hover label.sk-toggleable__label-arrow:before {color: black;}#sk-container-id-3 div.sk-toggleable__content {max-height: 0;max-width: 0;overflow: hidden;text-align: left;background-color: #f0f8ff;}#sk-container-id-3 div.sk-toggleable__content pre {margin: 0.2em;color: black;border-radius: 0.25em;background-color: #f0f8ff;}#sk-container-id-3 input.sk-toggleable__control:checked~div.sk-toggleable__content {max-height: 200px;max-width: 100%;overflow: auto;}#sk-container-id-3 input.sk-toggleable__control:checked~label.sk-toggleable__label-arrow:before {content: \"▾\";}#sk-container-id-3 div.sk-estimator input.sk-toggleable__control:checked~label.sk-toggleable__label {background-color: #d4ebff;}#sk-container-id-3 div.sk-label input.sk-toggleable__control:checked~label.sk-toggleable__label {background-color: #d4ebff;}#sk-container-id-3 input.sk-hidden--visually {border: 0;clip: rect(1px 1px 1px 1px);clip: rect(1px, 1px, 1px, 1px);height: 1px;margin: -1px;overflow: hidden;padding: 0;position: absolute;width: 1px;}#sk-container-id-3 div.sk-estimator {font-family: monospace;background-color: #f0f8ff;border: 1px dotted black;border-radius: 0.25em;box-sizing: border-box;margin-bottom: 0.5em;}#sk-container-id-3 div.sk-estimator:hover {background-color: #d4ebff;}#sk-container-id-3 div.sk-parallel-item::after {content: \"\";width: 100%;border-bottom: 1px solid gray;flex-grow: 1;}#sk-container-id-3 div.sk-label:hover label.sk-toggleable__label {background-color: #d4ebff;}#sk-container-id-3 div.sk-serial::before {content: \"\";position: absolute;border-left: 1px solid gray;box-sizing: border-box;top: 0;bottom: 0;left: 50%;z-index: 0;}#sk-container-id-3 div.sk-serial {display: flex;flex-direction: column;align-items: center;background-color: white;padding-right: 0.2em;padding-left: 0.2em;position: relative;}#sk-container-id-3 div.sk-item {position: relative;z-index: 1;}#sk-container-id-3 div.sk-parallel {display: flex;align-items: stretch;justify-content: center;background-color: white;position: relative;}#sk-container-id-3 div.sk-item::before, #sk-container-id-3 div.sk-parallel-item::before {content: \"\";position: absolute;border-left: 1px solid gray;box-sizing: border-box;top: 0;bottom: 0;left: 50%;z-index: -1;}#sk-container-id-3 div.sk-parallel-item {display: flex;flex-direction: column;z-index: 1;position: relative;background-color: white;}#sk-container-id-3 div.sk-parallel-item:first-child::after {align-self: flex-end;width: 50%;}#sk-container-id-3 div.sk-parallel-item:last-child::after {align-self: flex-start;width: 50%;}#sk-container-id-3 div.sk-parallel-item:only-child::after {width: 0;}#sk-container-id-3 div.sk-dashed-wrapped {border: 1px dashed gray;margin: 0 0.4em 0.5em 0.4em;box-sizing: border-box;padding-bottom: 0.4em;background-color: white;}#sk-container-id-3 div.sk-label label {font-family: monospace;font-weight: bold;display: inline-block;line-height: 1.2em;}#sk-container-id-3 div.sk-label-container {text-align: center;}#sk-container-id-3 div.sk-container {/* jupyter's `normalize.less` sets `[hidden] { display: none; }` but bootstrap.min.css set `[hidden] { display: none !important; }` so we also need the `!important` here to be able to override the default hidden behavior on the sphinx rendered scikit-learn.org. See: https://github.com/scikit-learn/scikit-learn/issues/21755 */display: inline-block !important;position: relative;}#sk-container-id-3 div.sk-text-repr-fallback {display: none;}</style><div id=\"sk-container-id-3\" class=\"sk-top-container\"><div class=\"sk-text-repr-fallback\"><pre>LinearRegression()</pre><b>In a Jupyter environment, please rerun this cell to show the HTML representation or trust the notebook. <br />On GitHub, the HTML representation is unable to render, please try loading this page with nbviewer.org.</b></div><div class=\"sk-container\" hidden><div class=\"sk-item\"><div class=\"sk-estimator sk-toggleable\"><input class=\"sk-toggleable__control sk-hidden--visually\" id=\"sk-estimator-id-3\" type=\"checkbox\" checked><label for=\"sk-estimator-id-3\" class=\"sk-toggleable__label sk-toggleable__label-arrow\">LinearRegression</label><div class=\"sk-toggleable__content\"><pre>LinearRegression()</pre></div></div></div></div></div>"
      ],
      "text/plain": [
       "LinearRegression()"
      ]
     },
     "execution_count": 79,
     "metadata": {},
     "output_type": "execute_result"
    }
   ],
   "source": [
    "# implement linear regression\n",
    "from sklearn.linear_model import LinearRegression\n",
    "model = LinearRegression()\n",
    "model.fit(X_train,y_train)"
   ]
  },
  {
   "cell_type": "code",
   "execution_count": 84,
   "metadata": {},
   "outputs": [
    {
     "data": {
      "text/plain": [
       "array([244.11597644, 244.08578773, 244.05559903, 244.02541032,\n",
       "       243.69216289, 243.60159676, 243.57140806, 243.54121935,\n",
       "       243.51103064, 243.48084193, 243.39027581, 243.3600871 ,\n",
       "       243.32989839, 243.29970969, 243.26952098, 243.17895485,\n",
       "       243.14876615, 243.11857744, 243.08838873, 243.05820002,\n",
       "       242.9676339 , 242.90725648, 242.87706778, 242.84687907,\n",
       "       242.4531409 , 242.42295219, 242.39276348, 242.36257477,\n",
       "       242.33238607, 242.24181994, 242.21163124, 242.18144253,\n",
       "       242.15125382, 242.12106511, 242.03049899, 242.00031028,\n",
       "       241.97012157, 241.93993287, 241.90974416, 241.81917803,\n",
       "       241.78898933, 241.75880062, 241.72861191, 241.6984232 ,\n",
       "       241.33402314, 241.30383443, 241.27364573, 241.24345702,\n",
       "       241.21326831, 241.12270219, 241.09251348, 241.06232477,\n",
       "       241.00194736, 240.91138123, 240.88119253, 240.85100382,\n",
       "       240.82081511, 240.7906264 , 240.70006028, 240.66987157,\n",
       "       240.63968286, 240.60949416, 240.57930545, 240.45855062,\n",
       "       240.42836191, 240.09500115, 239.97424632, 239.94405761,\n",
       "       239.91386891, 239.8836802 , 239.85349149, 239.76292537,\n",
       "       239.73273666, 239.67235924, 239.64217054, 239.55160441,\n",
       "       239.52141571, 239.46103829, 239.43084958, 239.34028346,\n",
       "       239.31009475, 239.27990604, 239.24971734, 239.21952863,\n",
       "       238.83556983, 238.80538112, 238.77519241, 238.7450037 ,\n",
       "       238.714815  , 238.62424887, 238.59406016, 238.56387146,\n",
       "       238.50349404, 238.41292792, 238.38273921, 238.3525505 ,\n",
       "       238.32236179, 238.29217309, 238.20160696, 238.17141826,\n",
       "       238.14122955, 238.11104084, 238.08085213, 237.99028601,\n",
       "       237.65692525, 237.62673655, 237.59654784, 237.56635913,\n",
       "       237.47579301, 237.4456043 , 237.41541559, 237.38522688,\n",
       "       237.35503818, 237.26447205, 237.23428334, 237.20409464,\n",
       "       237.17390593, 237.14371722, 237.0531511 , 237.02296239,\n",
       "       236.99277368, 236.96258497, 236.93239627, 236.84183014,\n",
       "       236.81164144, 236.78145273, 236.45787134, 236.42768263,\n",
       "       236.33711651, 236.3069278 , 236.2767391 , 236.24655039,\n",
       "       236.21636168, 236.12579556, 236.09560685, 236.06541814,\n",
       "       236.03522943, 236.00504073, 235.9144746 , 235.88428589,\n",
       "       235.82390848, 235.79371977, 235.70315365, 235.67296494,\n",
       "       235.64277623, 235.61258752, 235.58239882, 235.18866065,\n",
       "       235.15847194, 235.12828323, 235.09809452, 235.06790581,\n",
       "       234.97733969, 234.94715098, 234.91696228, 234.88677357,\n",
       "       234.85658486, 234.76601874, 234.73583003, 234.70564132,\n",
       "       234.64526391, 234.55469778, 234.52450907, 234.49432037,\n",
       "       234.46413166, 234.43394295, 234.34337683, 234.31318812,\n",
       "       233.97982737, 233.94963866, 233.91944995, 233.82888383,\n",
       "       233.79869512, 233.76850641, 233.7383177 , 233.61756287,\n",
       "       233.58737416, 233.55718546, 233.52699675, 233.49680804,\n",
       "       233.40624192, 233.37605321, 233.3458645 , 233.31567579,\n",
       "       233.28548709, 233.19492096, 233.16473226, 233.13454355,\n",
       "       233.10435484, 232.78077345, 232.69020733, 232.66001862,\n",
       "       232.62982992, 232.59964121, 232.5694525 , 232.47888638,\n",
       "       232.44869767, 232.41850896, 232.38832025, 232.26756542,\n",
       "       232.23737671, 232.20718801, 232.1769993 , 232.14681059,\n",
       "       232.05624447, 232.02605576, 231.99586705, 231.96567834,\n",
       "       231.93548964, 231.54175147, 231.51156276, 231.48137405,\n",
       "       231.45118534, 231.33043051, 231.3002418 , 231.2700531 ,\n",
       "       231.23986439, 231.20967568, 231.11910956, 231.08892085,\n",
       "       231.05873214, 231.02854343, 230.9077886 , 230.87759989,\n",
       "       230.84741119, 230.81722248, 230.78703377, 230.69646765,\n",
       "       230.66627894, 230.34269755, 230.31250885, 230.28232014,\n",
       "       230.19175402, 230.16156531, 230.1313766 , 230.10118789,\n",
       "       230.07099918, 229.98043306, 229.95024435, 229.92005565,\n",
       "       229.88986694, 229.85967823, 229.76911211, 229.7389234 ,\n",
       "       229.70873469, 229.67854598, 229.64835728, 229.55779115,\n",
       "       229.52760244, 229.49741374, 229.46722503, 229.43703632,\n",
       "       229.04341147, 229.01322277, 228.98303406, 228.95284535,\n",
       "       228.92265664, 228.83209052, 228.80190181, 228.7717131 ,\n",
       "       228.7415244 , 228.71133569, 228.62076956, 228.59058086,\n",
       "       228.56039215, 228.53020344, 228.50001473, 228.40944861,\n",
       "       228.3792599 , 228.31888249, 228.28869378, 228.19812766,\n",
       "       227.8647669 , 227.83457819, 227.80438948, 227.77420078,\n",
       "       227.68363465, 227.65344595, 227.62325724, 227.59306853,\n",
       "       227.56287982, 227.4723137 , 227.44212499, 227.41193628,\n",
       "       227.38174758, 227.35155887, 227.26099274, 227.23080404,\n",
       "       227.20061533, 227.17042662, 227.14023791, 227.04967179,\n",
       "       226.71546044, 226.68527173, 226.65508302, 226.5645169 ,\n",
       "       226.53432819, 226.50413948, 226.47395077, 226.44376207,\n",
       "       226.35319594, 226.32300724, 226.29281853, 226.26262982,\n",
       "       226.14187499, 226.11168628, 226.08149757, 226.05130887,\n",
       "       226.02112016, 225.93055403, 225.90036533, 225.87017662,\n",
       "       225.83998791, 225.50662716, 225.41606103, 225.38587233,\n",
       "       225.35568362, 225.32549491, 225.2953062 , 225.20474008,\n",
       "       225.17455137, 225.14436266, 224.99341912, 224.96323042,\n",
       "       224.93304171, 224.902853  , 224.87266429, 224.78209817,\n",
       "       224.75190946, 224.72172075, 224.69153205, 224.66134334,\n",
       "       224.27738454, 224.21700712, 224.18681841, 224.15662971,\n",
       "       224.06606358, 224.03587488, 224.00568617, 223.97549746,\n",
       "       223.94530875, 223.85474263, 223.82455392, 223.79436521,\n",
       "       223.76417651, 223.7339878 , 223.64342167, 223.61323297,\n",
       "       223.58304426, 223.55285555, 223.52266684, 223.43210072,\n",
       "       223.40191201, 223.06855126, 223.03836255, 223.00817384,\n",
       "       222.91760772, 222.88741901, 222.8572303 , 222.82704159,\n",
       "       222.79685289, 222.70628676, 222.67609806, 222.64590935,\n",
       "       222.61572064, 222.58553193, 222.49496581, 222.4647771 ,\n",
       "       222.43458839, 222.40439969, 222.37421098, 222.28364485,\n",
       "       222.25345615, 222.22326744, 222.19307873, 221.86949735,\n",
       "       221.77893122, 221.74874251, 221.71855381, 221.6883651 ,\n",
       "       221.65817639, 221.56761027, 221.53742156])"
      ]
     },
     "execution_count": 84,
     "metadata": {},
     "output_type": "execute_result"
    }
   ],
   "source": [
    "# make prediction and find the rmse\n",
    "preds  = model.predict(X_valid)\n",
    "preds"
   ]
  },
  {
   "cell_type": "code",
   "execution_count": 81,
   "metadata": {},
   "outputs": [
    {
     "data": {
      "text/plain": [
       "216.64870412043416"
      ]
     },
     "execution_count": 81,
     "metadata": {},
     "output_type": "execute_result"
    }
   ],
   "source": [
    "rms = np.sqrt(np.mean(np.power((np.array(y_valid)-np.array(preds)),2)))\n",
    "rms"
   ]
  },
  {
   "cell_type": "markdown",
   "metadata": {},
   "source": [
    "The RMSE value is higher than the Moving Average technique, which clearly shows that linear regression has perforned poorly.\n"
   ]
  },
  {
   "cell_type": "code",
   "execution_count": 85,
   "metadata": {},
   "outputs": [
    {
     "data": {
      "text/html": [
       "<div>\n",
       "<style scoped>\n",
       "    .dataframe tbody tr th:only-of-type {\n",
       "        vertical-align: middle;\n",
       "    }\n",
       "\n",
       "    .dataframe tbody tr th {\n",
       "        vertical-align: top;\n",
       "    }\n",
       "\n",
       "    .dataframe thead th {\n",
       "        text-align: right;\n",
       "    }\n",
       "</style>\n",
       "<table border=\"1\" class=\"dataframe\">\n",
       "  <thead>\n",
       "    <tr style=\"text-align: right;\">\n",
       "      <th></th>\n",
       "      <th>Close</th>\n",
       "      <th>year</th>\n",
       "      <th>month</th>\n",
       "      <th>day</th>\n",
       "      <th>numeric_date</th>\n",
       "      <th>mon_fri</th>\n",
       "      <th>Predictions</th>\n",
       "    </tr>\n",
       "  </thead>\n",
       "  <tbody>\n",
       "    <tr>\n",
       "      <th>987</th>\n",
       "      <td>275.20</td>\n",
       "      <td>2020</td>\n",
       "      <td>12</td>\n",
       "      <td>28</td>\n",
       "      <td>1609113600000000000</td>\n",
       "      <td>0</td>\n",
       "      <td>244.115976</td>\n",
       "    </tr>\n",
       "    <tr>\n",
       "      <th>988</th>\n",
       "      <td>277.90</td>\n",
       "      <td>2020</td>\n",
       "      <td>12</td>\n",
       "      <td>29</td>\n",
       "      <td>1609200000000000000</td>\n",
       "      <td>0</td>\n",
       "      <td>244.085788</td>\n",
       "    </tr>\n",
       "    <tr>\n",
       "      <th>989</th>\n",
       "      <td>276.90</td>\n",
       "      <td>2020</td>\n",
       "      <td>12</td>\n",
       "      <td>30</td>\n",
       "      <td>1609286400000000000</td>\n",
       "      <td>0</td>\n",
       "      <td>244.055599</td>\n",
       "    </tr>\n",
       "    <tr>\n",
       "      <th>990</th>\n",
       "      <td>274.95</td>\n",
       "      <td>2020</td>\n",
       "      <td>12</td>\n",
       "      <td>31</td>\n",
       "      <td>1609372800000000000</td>\n",
       "      <td>0</td>\n",
       "      <td>244.025410</td>\n",
       "    </tr>\n",
       "    <tr>\n",
       "      <th>991</th>\n",
       "      <td>279.40</td>\n",
       "      <td>2021</td>\n",
       "      <td>1</td>\n",
       "      <td>1</td>\n",
       "      <td>1609459200000000000</td>\n",
       "      <td>0</td>\n",
       "      <td>243.692163</td>\n",
       "    </tr>\n",
       "    <tr>\n",
       "      <th>...</th>\n",
       "      <td>...</td>\n",
       "      <td>...</td>\n",
       "      <td>...</td>\n",
       "      <td>...</td>\n",
       "      <td>...</td>\n",
       "      <td>...</td>\n",
       "      <td>...</td>\n",
       "    </tr>\n",
       "    <tr>\n",
       "      <th>1365</th>\n",
       "      <td>479.95</td>\n",
       "      <td>2022</td>\n",
       "      <td>7</td>\n",
       "      <td>6</td>\n",
       "      <td>1657065600000000000</td>\n",
       "      <td>0</td>\n",
       "      <td>221.718554</td>\n",
       "    </tr>\n",
       "    <tr>\n",
       "      <th>1366</th>\n",
       "      <td>486.75</td>\n",
       "      <td>2022</td>\n",
       "      <td>7</td>\n",
       "      <td>7</td>\n",
       "      <td>1657152000000000000</td>\n",
       "      <td>0</td>\n",
       "      <td>221.688365</td>\n",
       "    </tr>\n",
       "    <tr>\n",
       "      <th>1367</th>\n",
       "      <td>488.55</td>\n",
       "      <td>2022</td>\n",
       "      <td>7</td>\n",
       "      <td>8</td>\n",
       "      <td>1657238400000000000</td>\n",
       "      <td>0</td>\n",
       "      <td>221.658176</td>\n",
       "    </tr>\n",
       "    <tr>\n",
       "      <th>1368</th>\n",
       "      <td>488.20</td>\n",
       "      <td>2022</td>\n",
       "      <td>7</td>\n",
       "      <td>11</td>\n",
       "      <td>1657497600000000000</td>\n",
       "      <td>0</td>\n",
       "      <td>221.567610</td>\n",
       "    </tr>\n",
       "    <tr>\n",
       "      <th>1369</th>\n",
       "      <td>484.95</td>\n",
       "      <td>2022</td>\n",
       "      <td>7</td>\n",
       "      <td>12</td>\n",
       "      <td>1657584000000000000</td>\n",
       "      <td>0</td>\n",
       "      <td>221.537422</td>\n",
       "    </tr>\n",
       "  </tbody>\n",
       "</table>\n",
       "<p>383 rows × 7 columns</p>\n",
       "</div>"
      ],
      "text/plain": [
       "       Close  year  month  day         numeric_date  mon_fri  Predictions\n",
       "987   275.20  2020     12   28  1609113600000000000        0   244.115976\n",
       "988   277.90  2020     12   29  1609200000000000000        0   244.085788\n",
       "989   276.90  2020     12   30  1609286400000000000        0   244.055599\n",
       "990   274.95  2020     12   31  1609372800000000000        0   244.025410\n",
       "991   279.40  2021      1    1  1609459200000000000        0   243.692163\n",
       "...      ...   ...    ...  ...                  ...      ...          ...\n",
       "1365  479.95  2022      7    6  1657065600000000000        0   221.718554\n",
       "1366  486.75  2022      7    7  1657152000000000000        0   221.688365\n",
       "1367  488.55  2022      7    8  1657238400000000000        0   221.658176\n",
       "1368  488.20  2022      7   11  1657497600000000000        0   221.567610\n",
       "1369  484.95  2022      7   12  1657584000000000000        0   221.537422\n",
       "\n",
       "[383 rows x 7 columns]"
      ]
     },
     "execution_count": 85,
     "metadata": {},
     "output_type": "execute_result"
    }
   ],
   "source": [
    "valid"
   ]
  },
  {
   "cell_type": "code",
   "execution_count": 86,
   "metadata": {},
   "outputs": [
    {
     "name": "stderr",
     "output_type": "stream",
     "text": [
      "C:\\Users\\arunk\\AppData\\Local\\Temp\\ipykernel_1396\\3407070223.py:3: SettingWithCopyWarning: \n",
      "A value is trying to be set on a copy of a slice from a DataFrame.\n",
      "Try using .loc[row_indexer,col_indexer] = value instead\n",
      "\n",
      "See the caveats in the documentation: https://pandas.pydata.org/pandas-docs/stable/user_guide/indexing.html#returning-a-view-versus-a-copy\n",
      "  valid['Predictions'] = preds\n"
     ]
    },
    {
     "data": {
      "text/plain": [
       "[<matplotlib.lines.Line2D at 0x1d16ece4f40>,\n",
       " <matplotlib.lines.Line2D at 0x1d16ece4f70>]"
      ]
     },
     "execution_count": 86,
     "metadata": {},
     "output_type": "execute_result"
    },
    {
     "data": {
      "image/png": "[encoded data removed]",
      "text/plain": [
       "<Figure size 432x288 with 1 Axes>"
      ]
     },
     "metadata": {
      "needs_background": "light"
     },
     "output_type": "display_data"
    }
   ],
   "source": [
    "import matplotlib.pyplot as plt\n",
    "# PLOT\n",
    "valid['Predictions'] = preds\n",
    "valid.index = new_data[987:].index\n",
    "train.index = new_data[:987].index\n",
    "\n",
    "plt.plot(train['Close'])\n",
    "plt.plot(valid[['Close', 'Predictions']])\n",
    "\n"
   ]
  },
  {
   "cell_type": "code",
   "execution_count": 118,
   "metadata": {},
   "outputs": [],
   "source": [
    "# KNN\n",
    "from sklearn import  neighbors\n",
    "from sklearn.model_selection import GridSearchCV\n",
    "from sklearn.preprocessing import MinMaxScaler\n",
    "scaler  = MinMaxScaler(feature_range=(0,1))\n",
    "\n",
    "# scaling data\n",
    "scaled_new_data = scaler.fit_transform(new_data)\n",
    "scaled_new_data_df = pd.DataFrame(scaled_new_data)\n",
    "\n",
    "# train = scaled_new_data_df[987:]\n",
    "# valid = scaled_new_data_df[:987]\n",
    "\n",
    "train = new_data[:987]\n",
    "valid = new_data[987:]\n",
    "\n",
    "# X_train =train.drop(1,axis=1)\n",
    "# y_train = train[1]\n",
    "# X_valid = valid.drop(1,axis=1)\n",
    "# y_valid = valid[1]\n",
    "# y_valid.isnull().sum()\n",
    "\n",
    "X_train =train.drop('Close',axis=1)\n",
    "y_train = train['Close']\n",
    "X_valid = valid.drop('Close',axis=1)\n",
    "y_valid = valid['Close']\n",
    "y_valid.isnull().sum()\n",
    "\n",
    "\n",
    "# find best parameter\n",
    "params= {'n_neighbors':[2,3,4,5,6]}\n",
    "knn  = neighbors.KNeighborsRegressor()\n",
    "model = GridSearchCV(knn,params,cv=5)\n",
    "\n",
    "# fit model and make predictions\n",
    "model.fit(X_train,y_train)\n",
    "preds = model.predict(X_valid)"
   ]
  },
  {
   "cell_type": "code",
   "execution_count": 119,
   "metadata": {},
   "outputs": [
    {
     "data": {
      "text/plain": [
       "188.69240130621307"
      ]
     },
     "execution_count": 119,
     "metadata": {},
     "output_type": "execute_result"
    }
   ],
   "source": [
    "#RMSE\n",
    "rms = np.sqrt(np.mean(np.power((np.array(y_valid)-np.array(preds)),2)))\n",
    "rms"
   ]
  },
  {
   "cell_type": "code",
   "execution_count": 120,
   "metadata": {},
   "outputs": [
    {
     "name": "stderr",
     "output_type": "stream",
     "text": [
      "C:\\Users\\arunk\\AppData\\Local\\Temp\\ipykernel_1396\\202172678.py:3: SettingWithCopyWarning: \n",
      "A value is trying to be set on a copy of a slice from a DataFrame.\n",
      "Try using .loc[row_indexer,col_indexer] = value instead\n",
      "\n",
      "See the caveats in the documentation: https://pandas.pydata.org/pandas-docs/stable/user_guide/indexing.html#returning-a-view-versus-a-copy\n",
      "  valid['Predictions'] = preds\n"
     ]
    },
    {
     "data": {
      "text/plain": [
       "[<matplotlib.lines.Line2D at 0x1d1713cd040>]"
      ]
     },
     "execution_count": 120,
     "metadata": {},
     "output_type": "execute_result"
    },
    {
     "data": {
      "image/png": "[encoded data removed]",
      "text/plain": [
       "<Figure size 432x288 with 1 Axes>"
      ]
     },
     "metadata": {
      "needs_background": "light"
     },
     "output_type": "display_data"
    }
   ],
   "source": [
    "import matplotlib.pyplot as plt\n",
    "# PLOT\n",
    "valid['Predictions'] = preds\n",
    "\n",
    "\n",
    "plt.plot(valid[['Close', 'Predictions']])\n",
    "\n",
    "plt.plot(train['Close'])"
   ]
  },
  {
   "cell_type": "code",
   "execution_count": 121,
   "metadata": {},
   "outputs": [
    {
     "data": {
      "text/plain": [
       "(987, 5)"
      ]
     },
     "execution_count": 121,
     "metadata": {},
     "output_type": "execute_result"
    }
   ],
   "source": [
    "X_train.shape"
   ]
  },
  {
   "cell_type": "code",
   "execution_count": 122,
   "metadata": {},
   "outputs": [
    {
     "data": {
      "text/plain": [
       "(987,)"
      ]
     },
     "execution_count": 122,
     "metadata": {},
     "output_type": "execute_result"
    }
   ],
   "source": [
    "y_train.shape"
   ]
  },
  {
   "cell_type": "code",
   "execution_count": 123,
   "metadata": {},
   "outputs": [
    {
     "data": {
      "text/plain": [
       "(383,)"
      ]
     },
     "execution_count": 123,
     "metadata": {},
     "output_type": "execute_result"
    }
   ],
   "source": [
    "y_valid.shape"
   ]
  },
  {
   "cell_type": "code",
   "execution_count": 124,
   "metadata": {},
   "outputs": [
    {
     "data": {
      "text/plain": [
       "(383, 5)"
      ]
     },
     "execution_count": 124,
     "metadata": {},
     "output_type": "execute_result"
    }
   ],
   "source": [
    "X_valid.shape"
   ]
  },
  {
   "cell_type": "code",
   "execution_count": 160,
   "metadata": {},
   "outputs": [
    {
     "ename": "TypeError",
     "evalue": "Parameter grid for parameter 'max_depth' needs to be a list or a numpy array, but got 5 (of type int) instead. Single values need to be wrapped in a list with one element.",
     "output_type": "error",
     "traceback": [
      "\u001b[1;31m---------------------------------------------------------------------------\u001b[0m",
      "\u001b[1;31mTypeError\u001b[0m                                 Traceback (most recent call last)",
      "\u001b[1;32mc:\\Users\\arunk\\OneDrive\\Documents\\GitHub\\investment_prediction\\notebook\\Model_building.ipynb Cell 24\u001b[0m in \u001b[0;36m<cell line: 6>\u001b[1;34m()\u001b[0m\n\u001b[0;32m      <a href='vscode-notebook-cell:/c%3A/Users/arunk/OneDrive/Documents/GitHub/investment_prediction/notebook/Model_building.ipynb#ch0000025?line=2'>3</a>\u001b[0m rfr \u001b[39m=\u001b[39m RandomForestRegressor(random_state \u001b[39m=\u001b[39m \u001b[39m1\u001b[39m)\n\u001b[0;32m      <a href='vscode-notebook-cell:/c%3A/Users/arunk/OneDrive/Documents/GitHub/investment_prediction/notebook/Model_building.ipynb#ch0000025?line=4'>5</a>\u001b[0m \u001b[39m# fit model and make predictions\u001b[39;00m\n\u001b[1;32m----> <a href='vscode-notebook-cell:/c%3A/Users/arunk/OneDrive/Documents/GitHub/investment_prediction/notebook/Model_building.ipynb#ch0000025?line=5'>6</a>\u001b[0m model\u001b[39m.\u001b[39;49mfit(X_train,y_train)\n\u001b[0;32m      <a href='vscode-notebook-cell:/c%3A/Users/arunk/OneDrive/Documents/GitHub/investment_prediction/notebook/Model_building.ipynb#ch0000025?line=6'>7</a>\u001b[0m preds \u001b[39m=\u001b[39m model\u001b[39m.\u001b[39mpredict(X_valid)\n",
      "File \u001b[1;32mc:\\Users\\arunk\\.conda\\envs\\stockenv39\\lib\\site-packages\\sklearn\\model_selection\\_search.py:875\u001b[0m, in \u001b[0;36mBaseSearchCV.fit\u001b[1;34m(self, X, y, groups, **fit_params)\u001b[0m\n\u001b[0;32m    869\u001b[0m     results \u001b[39m=\u001b[39m \u001b[39mself\u001b[39m\u001b[39m.\u001b[39m_format_results(\n\u001b[0;32m    870\u001b[0m         all_candidate_params, n_splits, all_out, all_more_results\n\u001b[0;32m    871\u001b[0m     )\n\u001b[0;32m    873\u001b[0m     \u001b[39mreturn\u001b[39;00m results\n\u001b[1;32m--> 875\u001b[0m \u001b[39mself\u001b[39;49m\u001b[39m.\u001b[39;49m_run_search(evaluate_candidates)\n\u001b[0;32m    877\u001b[0m \u001b[39m# multimetric is determined here because in the case of a callable\u001b[39;00m\n\u001b[0;32m    878\u001b[0m \u001b[39m# self.scoring the return type is only known after calling\u001b[39;00m\n\u001b[0;32m    879\u001b[0m first_test_score \u001b[39m=\u001b[39m all_out[\u001b[39m0\u001b[39m][\u001b[39m\"\u001b[39m\u001b[39mtest_scores\u001b[39m\u001b[39m\"\u001b[39m]\n",
      "File \u001b[1;32mc:\\Users\\arunk\\.conda\\envs\\stockenv39\\lib\\site-packages\\sklearn\\model_selection\\_search.py:1375\u001b[0m, in \u001b[0;36mGridSearchCV._run_search\u001b[1;34m(self, evaluate_candidates)\u001b[0m\n\u001b[0;32m   1373\u001b[0m \u001b[39mdef\u001b[39;00m \u001b[39m_run_search\u001b[39m(\u001b[39mself\u001b[39m, evaluate_candidates):\n\u001b[0;32m   1374\u001b[0m     \u001b[39m\"\"\"Search all candidates in param_grid\"\"\"\u001b[39;00m\n\u001b[1;32m-> 1375\u001b[0m     evaluate_candidates(ParameterGrid(\u001b[39mself\u001b[39;49m\u001b[39m.\u001b[39;49mparam_grid))\n",
      "File \u001b[1;32mc:\\Users\\arunk\\.conda\\envs\\stockenv39\\lib\\site-packages\\sklearn\\model_selection\\_search.py:118\u001b[0m, in \u001b[0;36mParameterGrid.__init__\u001b[1;34m(self, param_grid)\u001b[0m\n\u001b[0;32m    111\u001b[0m     \u001b[39mraise\u001b[39;00m \u001b[39mValueError\u001b[39;00m(\n\u001b[0;32m    112\u001b[0m         \u001b[39mf\u001b[39m\u001b[39m\"\u001b[39m\u001b[39mParameter array for \u001b[39m\u001b[39m{\u001b[39;00mkey\u001b[39m!r}\u001b[39;00m\u001b[39m should be one-dimensional, got:\u001b[39m\u001b[39m\"\u001b[39m\n\u001b[0;32m    113\u001b[0m         \u001b[39mf\u001b[39m\u001b[39m\"\u001b[39m\u001b[39m \u001b[39m\u001b[39m{\u001b[39;00mvalue\u001b[39m!r}\u001b[39;00m\u001b[39m with shape \u001b[39m\u001b[39m{\u001b[39;00mvalue\u001b[39m.\u001b[39mshape\u001b[39m}\u001b[39;00m\u001b[39m\"\u001b[39m\n\u001b[0;32m    114\u001b[0m     )\n\u001b[0;32m    115\u001b[0m \u001b[39mif\u001b[39;00m \u001b[39misinstance\u001b[39m(value, \u001b[39mstr\u001b[39m) \u001b[39mor\u001b[39;00m \u001b[39mnot\u001b[39;00m \u001b[39misinstance\u001b[39m(\n\u001b[0;32m    116\u001b[0m     value, (np\u001b[39m.\u001b[39mndarray, Sequence)\n\u001b[0;32m    117\u001b[0m ):\n\u001b[1;32m--> 118\u001b[0m     \u001b[39mraise\u001b[39;00m \u001b[39mTypeError\u001b[39;00m(\n\u001b[0;32m    119\u001b[0m         \u001b[39mf\u001b[39m\u001b[39m\"\u001b[39m\u001b[39mParameter grid for parameter \u001b[39m\u001b[39m{\u001b[39;00mkey\u001b[39m!r}\u001b[39;00m\u001b[39m needs to be a list or a\u001b[39m\u001b[39m\"\u001b[39m\n\u001b[0;32m    120\u001b[0m         \u001b[39mf\u001b[39m\u001b[39m\"\u001b[39m\u001b[39m numpy array, but got \u001b[39m\u001b[39m{\u001b[39;00mvalue\u001b[39m!r}\u001b[39;00m\u001b[39m (of type \u001b[39m\u001b[39m\"\u001b[39m\n\u001b[0;32m    121\u001b[0m         \u001b[39mf\u001b[39m\u001b[39m\"\u001b[39m\u001b[39m{\u001b[39;00m\u001b[39mtype\u001b[39m(value)\u001b[39m.\u001b[39m\u001b[39m__name__\u001b[39m\u001b[39m}\u001b[39;00m\u001b[39m) instead. Single values \u001b[39m\u001b[39m\"\u001b[39m\n\u001b[0;32m    122\u001b[0m         \u001b[39m\"\u001b[39m\u001b[39mneed to be wrapped in a list with one element.\u001b[39m\u001b[39m\"\u001b[39m\n\u001b[0;32m    123\u001b[0m     )\n\u001b[0;32m    124\u001b[0m \u001b[39mif\u001b[39;00m \u001b[39mlen\u001b[39m(value) \u001b[39m==\u001b[39m \u001b[39m0\u001b[39m:\n\u001b[0;32m    125\u001b[0m     \u001b[39mraise\u001b[39;00m \u001b[39mValueError\u001b[39;00m(\n\u001b[0;32m    126\u001b[0m         \u001b[39mf\u001b[39m\u001b[39m\"\u001b[39m\u001b[39mParameter grid for parameter \u001b[39m\u001b[39m{\u001b[39;00mkey\u001b[39m!r}\u001b[39;00m\u001b[39m need \u001b[39m\u001b[39m\"\u001b[39m\n\u001b[0;32m    127\u001b[0m         \u001b[39mf\u001b[39m\u001b[39m\"\u001b[39m\u001b[39mto be a non-empty sequence, got: \u001b[39m\u001b[39m{\u001b[39;00mvalue\u001b[39m!r}\u001b[39;00m\u001b[39m\"\u001b[39m\n\u001b[0;32m    128\u001b[0m     )\n",
      "\u001b[1;31mTypeError\u001b[0m: Parameter grid for parameter 'max_depth' needs to be a list or a numpy array, but got 5 (of type int) instead. Single values need to be wrapped in a list with one element."
     ]
    }
   ],
   "source": [
    "from sklearn.ensemble import RandomForestRegressor\n",
    "# param_grid = {  'bootstrap': [True], 'max_depth': [5, 10, None], 'max_features': ['auto', 'log2'], 'n_estimators': [5, 6, 7, 8, 9, 10, 11, 12, 13, 15]}\n",
    "rfr = RandomForestRegressor(random_state = 1)\n",
    "\n",
    "# fit model and make predictions\n",
    "model.fit(X_train,y_train)\n",
    "preds = model.predict(X_valid)\n",
    "# model = GridSearchCV(rfr,params,cv=5,n_jobs=1)"
   ]
  },
  {
   "cell_type": "code",
   "execution_count": 130,
   "metadata": {},
   "outputs": [
    {
     "ename": "NotFittedError",
     "evalue": "This GridSearchCV instance is not fitted yet. Call 'fit' with appropriate arguments before using this estimator.",
     "output_type": "error",
     "traceback": [
      "\u001b[1;31m---------------------------------------------------------------------------\u001b[0m",
      "\u001b[1;31mNotFittedError\u001b[0m                            Traceback (most recent call last)",
      "\u001b[1;32mc:\\Users\\arunk\\OneDrive\\Documents\\GitHub\\investment_prediction\\notebook\\Model_building.ipynb Cell 25\u001b[0m in \u001b[0;36m<cell line: 1>\u001b[1;34m()\u001b[0m\n\u001b[1;32m----> <a href='vscode-notebook-cell:/c%3A/Users/arunk/OneDrive/Documents/GitHub/investment_prediction/notebook/Model_building.ipynb#ch0000026?line=0'>1</a>\u001b[0m model\u001b[39m.\u001b[39;49mpredict(X_valid)\n",
      "File \u001b[1;32mc:\\Users\\arunk\\.conda\\envs\\stockenv39\\lib\\site-packages\\sklearn\\model_selection\\_search.py:499\u001b[0m, in \u001b[0;36mBaseSearchCV.predict\u001b[1;34m(self, X)\u001b[0m\n\u001b[0;32m    480\u001b[0m \u001b[39m@available_if\u001b[39m(_estimator_has(\u001b[39m\"\u001b[39m\u001b[39mpredict\u001b[39m\u001b[39m\"\u001b[39m))\n\u001b[0;32m    481\u001b[0m \u001b[39mdef\u001b[39;00m \u001b[39mpredict\u001b[39m(\u001b[39mself\u001b[39m, X):\n\u001b[0;32m    482\u001b[0m     \u001b[39m\"\"\"Call predict on the estimator with the best found parameters.\u001b[39;00m\n\u001b[0;32m    483\u001b[0m \n\u001b[0;32m    484\u001b[0m \u001b[39m    Only available if ``refit=True`` and the underlying estimator supports\u001b[39;00m\n\u001b[1;32m   (...)\u001b[0m\n\u001b[0;32m    497\u001b[0m \u001b[39m        the best found parameters.\u001b[39;00m\n\u001b[0;32m    498\u001b[0m \u001b[39m    \"\"\"\u001b[39;00m\n\u001b[1;32m--> 499\u001b[0m     check_is_fitted(\u001b[39mself\u001b[39;49m)\n\u001b[0;32m    500\u001b[0m     \u001b[39mreturn\u001b[39;00m \u001b[39mself\u001b[39m\u001b[39m.\u001b[39mbest_estimator_\u001b[39m.\u001b[39mpredict(X)\n",
      "File \u001b[1;32mc:\\Users\\arunk\\.conda\\envs\\stockenv39\\lib\\site-packages\\sklearn\\utils\\validation.py:1345\u001b[0m, in \u001b[0;36mcheck_is_fitted\u001b[1;34m(estimator, attributes, msg, all_or_any)\u001b[0m\n\u001b[0;32m   1340\u001b[0m     fitted \u001b[39m=\u001b[39m [\n\u001b[0;32m   1341\u001b[0m         v \u001b[39mfor\u001b[39;00m v \u001b[39min\u001b[39;00m \u001b[39mvars\u001b[39m(estimator) \u001b[39mif\u001b[39;00m v\u001b[39m.\u001b[39mendswith(\u001b[39m\"\u001b[39m\u001b[39m_\u001b[39m\u001b[39m\"\u001b[39m) \u001b[39mand\u001b[39;00m \u001b[39mnot\u001b[39;00m v\u001b[39m.\u001b[39mstartswith(\u001b[39m\"\u001b[39m\u001b[39m__\u001b[39m\u001b[39m\"\u001b[39m)\n\u001b[0;32m   1342\u001b[0m     ]\n\u001b[0;32m   1344\u001b[0m \u001b[39mif\u001b[39;00m \u001b[39mnot\u001b[39;00m fitted:\n\u001b[1;32m-> 1345\u001b[0m     \u001b[39mraise\u001b[39;00m NotFittedError(msg \u001b[39m%\u001b[39m {\u001b[39m\"\u001b[39m\u001b[39mname\u001b[39m\u001b[39m\"\u001b[39m: \u001b[39mtype\u001b[39m(estimator)\u001b[39m.\u001b[39m\u001b[39m__name__\u001b[39m})\n",
      "\u001b[1;31mNotFittedError\u001b[0m: This GridSearchCV instance is not fitted yet. Call 'fit' with appropriate arguments before using this estimator."
     ]
    }
   ],
   "source": [
    "model.predict(X_valid)"
   ]
  }
 ],
 "metadata": {
  "kernelspec": {
   "display_name": "Python 3.9.0 ('stockenv39')",
   "language": "python",
   "name": "python3"
  },
  "language_info": {
   "codemirror_mode": {
    "name": "ipython",
    "version": 3
   },
   "file_extension": ".py",
   "mimetype": "text/x-python",
   "name": "python",
   "nbconvert_exporter": "python",
   "pygments_lexer": "ipython3",
   "version": "3.9.0"
  },
  "orig_nbformat": 4,
  "vscode": {
   "interpreter": {
    "hash": "a80a5401c0dd8c0ec3c875139de8fc736d60c31914f8d777e1b715702f7030fe"
   }
  }
 },
 "nbformat": 4,
 "nbformat_minor": 2
}
